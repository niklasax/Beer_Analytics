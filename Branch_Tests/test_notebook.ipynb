{
 "cells": [
  {
   "cell_type": "markdown",
   "id": "raising-drunk",
   "metadata": {},
   "source": [
    "test_branch_13"
   ]
  },
  {
   "cell_type": "markdown",
   "id": "right-terminology",
   "metadata": {},
   "source": [
    "test_2"
   ]
  },
  {
   "cell_type": "markdown",
   "id": "unknown-uzbekistan",
   "metadata": {
    "execution": {
     "iopub.execute_input": "2021-03-17T01:27:24.500830Z",
     "iopub.status.busy": "2021-03-17T01:27:24.497839Z",
     "iopub.status.idle": "2021-03-17T01:27:24.854068Z",
     "shell.execute_reply": "2021-03-17T01:27:24.848081Z",
     "shell.execute_reply.started": "2021-03-17T01:27:24.500830Z"
    }
   },
   "source": [
    "test_3 "
   ]
  },
  {
   "cell_type": "markdown",
   "id": "former-slovakia",
   "metadata": {
    "execution": {
     "iopub.execute_input": "2021-03-17T01:34:06.931059Z",
     "iopub.status.busy": "2021-03-17T01:34:06.931059Z",
     "iopub.status.idle": "2021-03-17T01:34:06.952001Z",
     "shell.execute_reply": "2021-03-17T01:34:06.950005Z",
     "shell.execute_reply.started": "2021-03-17T01:34:06.931059Z"
    }
   },
   "source": [
    "test_4 "
   ]
  },
  {
   "cell_type": "markdown",
   "id": "committed-accordance",
   "metadata": {},
   "source": [
    "test_5 "
   ]
  },
  {
   "cell_type": "markdown",
   "id": "democratic-fairy",
   "metadata": {
    "execution": {
     "iopub.execute_input": "2021-03-17T02:00:34.780727Z",
     "iopub.status.busy": "2021-03-17T02:00:34.778732Z",
     "iopub.status.idle": "2021-03-17T02:00:34.831590Z",
     "shell.execute_reply": "2021-03-17T02:00:34.828599Z",
     "shell.execute_reply.started": "2021-03-17T02:00:34.780727Z"
    }
   },
   "source": [
    "test_6 "
   ]
  },
  {
   "cell_type": "code",
   "execution_count": null,
   "id": "secondary-nowhere",
   "metadata": {},
   "outputs": [],
   "source": []
  }
 ],
 "metadata": {
  "kernelspec": {
   "display_name": "PythonData",
   "language": "python",
   "name": "pythondata"
  },
  "language_info": {
   "codemirror_mode": {
    "name": "ipython",
    "version": 3
   },
   "file_extension": ".py",
   "mimetype": "text/x-python",
   "name": "python",
   "nbconvert_exporter": "python",
   "pygments_lexer": "ipython3",
   "version": "3.7.9"
  }
 },
 "nbformat": 4,
 "nbformat_minor": 5
}
