{
 "cells": [
  {
   "cell_type": "code",
   "execution_count": 3,
   "id": "promotional-lying",
   "metadata": {
    "execution": {
     "iopub.execute_input": "2021-03-24T17:53:18.018036Z",
     "iopub.status.busy": "2021-03-24T17:53:18.018036Z",
     "iopub.status.idle": "2021-03-24T17:53:18.023020Z",
     "shell.execute_reply": "2021-03-24T17:53:18.022022Z",
     "shell.execute_reply.started": "2021-03-24T17:53:18.018036Z"
    }
   },
   "outputs": [],
   "source": [
    "#import dependencies \n",
    "import pandas as pd \n",
    "from sqlalchemy import create_engine\n",
    "import psycopg2\n",
    "import config "
   ]
  },
  {
   "cell_type": "code",
   "execution_count": null,
   "id": "considered-channel",
   "metadata": {},
   "outputs": [],
   "source": [
    "#read in data into dataframe \n",
    "beer_url = pass\n",
    "brewery_url = pass \n",
    "\n",
    "#beers_df = pd.read_csv(beer_url)\n",
    "#brewery_df = pd.read_csv(brewery_df)\n",
    "#beer_df.head(2)\n",
    "#brewery_df.head(2)"
   ]
  },
  {
   "cell_type": "code",
   "execution_count": 7,
   "id": "light-telephone",
   "metadata": {
    "execution": {
     "iopub.execute_input": "2021-03-24T17:54:07.159982Z",
     "iopub.status.busy": "2021-03-24T17:54:07.159982Z",
     "iopub.status.idle": "2021-03-24T17:54:07.208978Z",
     "shell.execute_reply": "2021-03-24T17:54:07.208978Z",
     "shell.execute_reply.started": "2021-03-24T17:54:07.159982Z"
    }
   },
   "outputs": [],
   "source": [
    "beer_df = pd.read_csv('../../beer_brewery.csv')\n",
    "brewery_df = pd.read"
   ]
  },
  {
   "cell_type": "code",
   "execution_count": 75,
   "id": "modified-lodging",
   "metadata": {
    "execution": {
     "iopub.execute_input": "2021-03-20T19:08:45.712969Z",
     "iopub.status.busy": "2021-03-20T19:08:45.711972Z",
     "iopub.status.idle": "2021-03-20T19:08:46.454987Z",
     "shell.execute_reply": "2021-03-20T19:08:46.454987Z",
     "shell.execute_reply.started": "2021-03-20T19:08:45.712969Z"
    }
   },
   "outputs": [],
   "source": [
    "#psycopg2 connection to aws through postgres \n",
    "conn = psycopg2.connect(database='postgres', user=config.user, password=config.db_password, host=config.host)\n",
    "cur = conn.cursor()\n",
    "\n",
    "cur.execute('''CREATE TABLE beer_data ( \n",
    "                abv DOUBLE PRECISION, \n",
    "                ibu DOUBLE PRECISION, \n",
    "                id TEXT, \n",
    "                name TEXT, \n",
    "                style TEXT, \n",
    "                brewery_id TEXT , \n",
    "                ounces DOUBLE PRECISION,\n",
    "                brewery_idbrewery_ INTEGER, \n",
    "                namebrewery_ TEXT, \n",
    "                city TEXT, \n",
    "                state TEXT\n",
    "           );''')\n",
    "\n",
    "conn.commit()\n",
    "conn.close()"
   ]
  },
  {
   "cell_type": "code",
   "execution_count": 87,
   "id": "baking-laugh",
   "metadata": {
    "execution": {
     "iopub.execute_input": "2021-03-21T01:17:13.281633Z",
     "iopub.status.busy": "2021-03-21T01:17:13.281633Z",
     "iopub.status.idle": "2021-03-21T01:17:13.351976Z",
     "shell.execute_reply": "2021-03-21T01:17:13.350979Z",
     "shell.execute_reply.started": "2021-03-21T01:17:13.281633Z"
    }
   },
   "outputs": [],
   "source": [
    "#sqlalcehmy database connection\n",
    "database = f'postgres://{config.user}:{config.db_password}@{config.host}/postgres'\n",
    "engine = create_engine(database)"
   ]
  },
  {
   "cell_type": "code",
   "execution_count": 80,
   "id": "encouraging-nashville",
   "metadata": {
    "execution": {
     "iopub.execute_input": "2021-03-20T19:23:04.514032Z",
     "iopub.status.busy": "2021-03-20T19:23:04.514032Z",
     "iopub.status.idle": "2021-03-20T19:24:30.941805Z",
     "shell.execute_reply": "2021-03-20T19:24:30.939810Z",
     "shell.execute_reply.started": "2021-03-20T19:23:04.514032Z"
    }
   },
   "outputs": [],
   "source": [
    "beer_data.to_sql(name='beer_data', if_exists='append', index=False, con=engine, chunksize=500)"
   ]
  },
  {
   "cell_type": "code",
   "execution_count": 88,
   "id": "right-weather",
   "metadata": {
    "execution": {
     "iopub.execute_input": "2021-03-21T01:17:50.740361Z",
     "iopub.status.busy": "2021-03-21T01:17:50.740361Z",
     "iopub.status.idle": "2021-03-21T01:17:51.852757Z",
     "shell.execute_reply": "2021-03-21T01:17:51.852757Z",
     "shell.execute_reply.started": "2021-03-21T01:17:50.740361Z"
    }
   },
   "outputs": [
    {
     "data": {
      "text/html": [
       "<div>\n",
       "<style scoped>\n",
       "    .dataframe tbody tr th:only-of-type {\n",
       "        vertical-align: middle;\n",
       "    }\n",
       "\n",
       "    .dataframe tbody tr th {\n",
       "        vertical-align: top;\n",
       "    }\n",
       "\n",
       "    .dataframe thead th {\n",
       "        text-align: right;\n",
       "    }\n",
       "</style>\n",
       "<table border=\"1\" class=\"dataframe\">\n",
       "  <thead>\n",
       "    <tr style=\"text-align: right;\">\n",
       "      <th></th>\n",
       "      <th>abv</th>\n",
       "      <th>ibu</th>\n",
       "      <th>id</th>\n",
       "      <th>name</th>\n",
       "      <th>style</th>\n",
       "      <th>brewery_id</th>\n",
       "      <th>ounces</th>\n",
       "      <th>brewery_idbrewery_</th>\n",
       "      <th>namebrewery_</th>\n",
       "      <th>city</th>\n",
       "      <th>state</th>\n",
       "    </tr>\n",
       "  </thead>\n",
       "  <tbody>\n",
       "    <tr>\n",
       "      <th>0</th>\n",
       "      <td>0.061</td>\n",
       "      <td>60.0</td>\n",
       "      <td>1979</td>\n",
       "      <td>Bitter Bitch</td>\n",
       "      <td>American Pale Ale (APA)</td>\n",
       "      <td>177</td>\n",
       "      <td>12.0</td>\n",
       "      <td>177</td>\n",
       "      <td>18th Street Brewery</td>\n",
       "      <td>Gary</td>\n",
       "      <td>IN</td>\n",
       "    </tr>\n",
       "    <tr>\n",
       "      <th>1</th>\n",
       "      <td>0.099</td>\n",
       "      <td>92.0</td>\n",
       "      <td>1036</td>\n",
       "      <td>Lower De Boom</td>\n",
       "      <td>American Barleywine</td>\n",
       "      <td>368</td>\n",
       "      <td>8.4</td>\n",
       "      <td>368</td>\n",
       "      <td>21st Amendment Brewery</td>\n",
       "      <td>San Francisco</td>\n",
       "      <td>CA</td>\n",
       "    </tr>\n",
       "    <tr>\n",
       "      <th>2</th>\n",
       "      <td>0.079</td>\n",
       "      <td>45.0</td>\n",
       "      <td>1024</td>\n",
       "      <td>Fireside Chat</td>\n",
       "      <td>Winter Warmer</td>\n",
       "      <td>368</td>\n",
       "      <td>12.0</td>\n",
       "      <td>368</td>\n",
       "      <td>21st Amendment Brewery</td>\n",
       "      <td>San Francisco</td>\n",
       "      <td>CA</td>\n",
       "    </tr>\n",
       "  </tbody>\n",
       "</table>\n",
       "</div>"
      ],
      "text/plain": [
       "     abv   ibu    id           name                    style brewery_id  \\\n",
       "0  0.061  60.0  1979   Bitter Bitch  American Pale Ale (APA)        177   \n",
       "1  0.099  92.0  1036  Lower De Boom      American Barleywine        368   \n",
       "2  0.079  45.0  1024  Fireside Chat            Winter Warmer        368   \n",
       "\n",
       "   ounces  brewery_idbrewery_            namebrewery_           city state  \n",
       "0    12.0                 177     18th Street Brewery           Gary    IN  \n",
       "1     8.4                 368  21st Amendment Brewery  San Francisco    CA  \n",
       "2    12.0                 368  21st Amendment Brewery  San Francisco    CA  "
      ]
     },
     "execution_count": 88,
     "metadata": {},
     "output_type": "execute_result"
    }
   ],
   "source": [
    "# testing querying database \n",
    "pd.read_sql_query('''SELECT * \n",
    "                  FROM beer_data\n",
    "                  LIMIT 3;''' ,con=engine)"
   ]
  },
  {
   "cell_type": "code",
   "execution_count": 89,
   "id": "characteristic-necessity",
   "metadata": {
    "execution": {
     "iopub.execute_input": "2021-03-21T01:20:56.708510Z",
     "iopub.status.busy": "2021-03-21T01:20:56.707513Z",
     "iopub.status.idle": "2021-03-21T01:20:56.871635Z",
     "shell.execute_reply": "2021-03-21T01:20:56.871635Z",
     "shell.execute_reply.started": "2021-03-21T01:20:56.708510Z"
    }
   },
   "outputs": [
    {
     "data": {
      "text/html": [
       "<div>\n",
       "<style scoped>\n",
       "    .dataframe tbody tr th:only-of-type {\n",
       "        vertical-align: middle;\n",
       "    }\n",
       "\n",
       "    .dataframe tbody tr th {\n",
       "        vertical-align: top;\n",
       "    }\n",
       "\n",
       "    .dataframe thead th {\n",
       "        text-align: right;\n",
       "    }\n",
       "</style>\n",
       "<table border=\"1\" class=\"dataframe\">\n",
       "  <thead>\n",
       "    <tr style=\"text-align: right;\">\n",
       "      <th></th>\n",
       "      <th>count</th>\n",
       "    </tr>\n",
       "  </thead>\n",
       "  <tbody>\n",
       "    <tr>\n",
       "      <th>0</th>\n",
       "      <td>1403</td>\n",
       "    </tr>\n",
       "  </tbody>\n",
       "</table>\n",
       "</div>"
      ],
      "text/plain": [
       "   count\n",
       "0   1403"
      ]
     },
     "execution_count": 89,
     "metadata": {},
     "output_type": "execute_result"
    }
   ],
   "source": [
    "pd.read_sql_query('''SELECT COUNT(*)\n",
    "                  FROM beer_data;''' ,con=engine)"
   ]
  },
  {
   "cell_type": "code",
   "execution_count": null,
   "id": "electrical-mountain",
   "metadata": {},
   "outputs": [],
   "source": []
  }
 ],
 "metadata": {
  "kernelspec": {
   "display_name": "PythonData",
   "language": "python",
   "name": "pythondata"
  },
  "language_info": {
   "codemirror_mode": {
    "name": "ipython",
    "version": 3
   },
   "file_extension": ".py",
   "mimetype": "text/x-python",
   "name": "python",
   "nbconvert_exporter": "python",
   "pygments_lexer": "ipython3",
   "version": "3.7.9"
  }
 },
 "nbformat": 4,
 "nbformat_minor": 5
}
