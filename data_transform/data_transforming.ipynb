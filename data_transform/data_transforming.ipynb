{
 "cells": [
  {
   "cell_type": "code",
   "execution_count": 1,
   "id": "parliamentary-botswana",
   "metadata": {
    "execution": {
     "iopub.execute_input": "2021-03-26T16:35:51.415781Z",
     "iopub.status.busy": "2021-03-26T16:35:51.415781Z",
     "iopub.status.idle": "2021-03-26T16:35:51.420732Z",
     "shell.execute_reply": "2021-03-26T16:35:51.419734Z",
     "shell.execute_reply.started": "2021-03-26T16:35:51.415781Z"
    }
   },
   "outputs": [],
   "source": [
    "#import dependencies \n",
    "import pandas as pd "
   ]
  },
  {
   "cell_type": "code",
   "execution_count": 2,
   "id": "cathedral-malta",
   "metadata": {
    "execution": {
     "iopub.execute_input": "2021-03-26T16:35:52.757707Z",
     "iopub.status.busy": "2021-03-26T16:35:52.757707Z",
     "iopub.status.idle": "2021-03-26T16:35:52.778812Z",
     "shell.execute_reply": "2021-03-26T16:35:52.778812Z",
     "shell.execute_reply.started": "2021-03-26T16:35:52.757707Z"
    }
   },
   "outputs": [],
   "source": [
    "#create dataframe \n",
    "beers_df = pd.read_csv('beer_cleaned.csv')"
   ]
  },
  {
   "cell_type": "code",
   "execution_count": 3,
   "id": "polar-making",
   "metadata": {
    "execution": {
     "iopub.execute_input": "2021-03-26T16:35:53.723622Z",
     "iopub.status.busy": "2021-03-26T16:35:53.723622Z",
     "iopub.status.idle": "2021-03-26T16:35:53.757528Z",
     "shell.execute_reply": "2021-03-26T16:35:53.757528Z",
     "shell.execute_reply.started": "2021-03-26T16:35:53.723622Z"
    }
   },
   "outputs": [
    {
     "data": {
      "text/plain": [
       "90"
      ]
     },
     "execution_count": 3,
     "metadata": {},
     "output_type": "execute_result"
    },
    {
     "data": {
      "text/plain": [
       "array(['American Pale Ale (APA)', 'American Barleywine', 'Winter Warmer',\n",
       "       'Fruit / Vegetable Beer', 'American IPA', 'English Strong Ale',\n",
       "       'American Double / Imperial IPA', 'American Black Ale',\n",
       "       'Belgian Dark Ale', 'Berliner Weissbier'], dtype=object)"
      ]
     },
     "execution_count": 3,
     "metadata": {},
     "output_type": "execute_result"
    }
   ],
   "source": [
    "#review styles \n",
    "beers_df['style'].nunique()\n",
    "unique_styles = beers_df['style'].unique()\n",
    "unique_styles[0:10]"
   ]
  },
  {
   "cell_type": "code",
   "execution_count": 4,
   "id": "precious-wallet",
   "metadata": {
    "execution": {
     "iopub.execute_input": "2021-03-26T16:36:01.327766Z",
     "iopub.status.busy": "2021-03-26T16:36:01.327766Z",
     "iopub.status.idle": "2021-03-26T16:36:01.331756Z",
     "shell.execute_reply": "2021-03-26T16:36:01.331756Z",
     "shell.execute_reply.started": "2021-03-26T16:36:01.327766Z"
    }
   },
   "outputs": [],
   "source": [
    "style_df = beers_df[['style']].copy()"
   ]
  },
  {
   "cell_type": "code",
   "execution_count": 5,
   "id": "worthy-living",
   "metadata": {
    "execution": {
     "iopub.execute_input": "2021-03-26T16:36:02.115278Z",
     "iopub.status.busy": "2021-03-26T16:36:02.115278Z",
     "iopub.status.idle": "2021-03-26T16:36:02.149730Z",
     "shell.execute_reply": "2021-03-26T16:36:02.149730Z",
     "shell.execute_reply.started": "2021-03-26T16:36:02.115278Z"
    }
   },
   "outputs": [],
   "source": [
    "#convert series/frame\n",
    "style_counts_df = style_df.value_counts().to_frame().reset_index().copy()"
   ]
  },
  {
   "cell_type": "code",
   "execution_count": 6,
   "id": "simplified-little",
   "metadata": {
    "execution": {
     "iopub.execute_input": "2021-03-26T16:36:18.180506Z",
     "iopub.status.busy": "2021-03-26T16:36:18.180506Z",
     "iopub.status.idle": "2021-03-26T16:36:18.187489Z",
     "shell.execute_reply": "2021-03-26T16:36:18.186492Z",
     "shell.execute_reply.started": "2021-03-26T16:36:18.180506Z"
    }
   },
   "outputs": [],
   "source": [
    "#rename columns \n",
    "style_counts_df.rename({0:'counts'},axis=1,inplace=True)"
   ]
  },
  {
   "cell_type": "markdown",
   "id": "hollywood-native",
   "metadata": {},
   "source": [
    "### Review observation thresholds to control groupings for machine learning "
   ]
  },
  {
   "cell_type": "code",
   "execution_count": 7,
   "id": "proprietary-quest",
   "metadata": {
    "execution": {
     "iopub.execute_input": "2021-03-26T16:36:25.020861Z",
     "iopub.status.busy": "2021-03-26T16:36:25.020861Z",
     "iopub.status.idle": "2021-03-26T16:36:25.052275Z",
     "shell.execute_reply": "2021-03-26T16:36:25.052275Z",
     "shell.execute_reply.started": "2021-03-26T16:36:25.020861Z"
    }
   },
   "outputs": [
    {
     "data": {
      "text/html": [
       "<div>\n",
       "<style scoped>\n",
       "    .dataframe tbody tr th:only-of-type {\n",
       "        vertical-align: middle;\n",
       "    }\n",
       "\n",
       "    .dataframe tbody tr th {\n",
       "        vertical-align: top;\n",
       "    }\n",
       "\n",
       "    .dataframe thead th {\n",
       "        text-align: right;\n",
       "    }\n",
       "</style>\n",
       "<table border=\"1\" class=\"dataframe\">\n",
       "  <thead>\n",
       "    <tr style=\"text-align: right;\">\n",
       "      <th></th>\n",
       "      <th>style</th>\n",
       "      <th>counts</th>\n",
       "    </tr>\n",
       "  </thead>\n",
       "  <tbody>\n",
       "    <tr>\n",
       "      <th>0</th>\n",
       "      <td>American IPA</td>\n",
       "      <td>288</td>\n",
       "    </tr>\n",
       "    <tr>\n",
       "      <th>1</th>\n",
       "      <td>American Pale Ale (APA)</td>\n",
       "      <td>142</td>\n",
       "    </tr>\n",
       "    <tr>\n",
       "      <th>2</th>\n",
       "      <td>American Amber / Red Ale</td>\n",
       "      <td>76</td>\n",
       "    </tr>\n",
       "    <tr>\n",
       "      <th>3</th>\n",
       "      <td>American Double / Imperial IPA</td>\n",
       "      <td>72</td>\n",
       "    </tr>\n",
       "    <tr>\n",
       "      <th>4</th>\n",
       "      <td>American Blonde Ale</td>\n",
       "      <td>58</td>\n",
       "    </tr>\n",
       "    <tr>\n",
       "      <th>5</th>\n",
       "      <td>American Pale Wheat Ale</td>\n",
       "      <td>45</td>\n",
       "    </tr>\n",
       "    <tr>\n",
       "      <th>6</th>\n",
       "      <td>American Brown Ale</td>\n",
       "      <td>37</td>\n",
       "    </tr>\n",
       "    <tr>\n",
       "      <th>7</th>\n",
       "      <td>American Porter</td>\n",
       "      <td>37</td>\n",
       "    </tr>\n",
       "  </tbody>\n",
       "</table>\n",
       "</div>"
      ],
      "text/plain": [
       "                            style  counts\n",
       "0                    American IPA     288\n",
       "1         American Pale Ale (APA)     142\n",
       "2        American Amber / Red Ale      76\n",
       "3  American Double / Imperial IPA      72\n",
       "4             American Blonde Ale      58\n",
       "5         American Pale Wheat Ale      45\n",
       "6              American Brown Ale      37\n",
       "7                 American Porter      37"
      ]
     },
     "execution_count": 7,
     "metadata": {},
     "output_type": "execute_result"
    }
   ],
   "source": [
    "# style groups with 30 or more \n",
    "style_counts_df[style_counts_df['counts'] > 30]      "
   ]
  },
  {
   "cell_type": "code",
   "execution_count": 8,
   "id": "measured-blackberry",
   "metadata": {
    "execution": {
     "iopub.execute_input": "2021-03-26T16:36:25.606285Z",
     "iopub.status.busy": "2021-03-26T16:36:25.606285Z",
     "iopub.status.idle": "2021-03-26T16:36:25.616257Z",
     "shell.execute_reply": "2021-03-26T16:36:25.615257Z",
     "shell.execute_reply.started": "2021-03-26T16:36:25.606285Z"
    }
   },
   "outputs": [
    {
     "data": {
      "text/html": [
       "<div>\n",
       "<style scoped>\n",
       "    .dataframe tbody tr th:only-of-type {\n",
       "        vertical-align: middle;\n",
       "    }\n",
       "\n",
       "    .dataframe tbody tr th {\n",
       "        vertical-align: top;\n",
       "    }\n",
       "\n",
       "    .dataframe thead th {\n",
       "        text-align: right;\n",
       "    }\n",
       "</style>\n",
       "<table border=\"1\" class=\"dataframe\">\n",
       "  <thead>\n",
       "    <tr style=\"text-align: right;\">\n",
       "      <th></th>\n",
       "      <th>style</th>\n",
       "      <th>counts</th>\n",
       "    </tr>\n",
       "  </thead>\n",
       "  <tbody>\n",
       "    <tr>\n",
       "      <th>0</th>\n",
       "      <td>American IPA</td>\n",
       "      <td>288</td>\n",
       "    </tr>\n",
       "    <tr>\n",
       "      <th>1</th>\n",
       "      <td>American Pale Ale (APA)</td>\n",
       "      <td>142</td>\n",
       "    </tr>\n",
       "    <tr>\n",
       "      <th>2</th>\n",
       "      <td>American Amber / Red Ale</td>\n",
       "      <td>76</td>\n",
       "    </tr>\n",
       "    <tr>\n",
       "      <th>3</th>\n",
       "      <td>American Double / Imperial IPA</td>\n",
       "      <td>72</td>\n",
       "    </tr>\n",
       "    <tr>\n",
       "      <th>4</th>\n",
       "      <td>American Blonde Ale</td>\n",
       "      <td>58</td>\n",
       "    </tr>\n",
       "    <tr>\n",
       "      <th>5</th>\n",
       "      <td>American Pale Wheat Ale</td>\n",
       "      <td>45</td>\n",
       "    </tr>\n",
       "    <tr>\n",
       "      <th>6</th>\n",
       "      <td>American Brown Ale</td>\n",
       "      <td>37</td>\n",
       "    </tr>\n",
       "    <tr>\n",
       "      <th>7</th>\n",
       "      <td>American Porter</td>\n",
       "      <td>37</td>\n",
       "    </tr>\n",
       "    <tr>\n",
       "      <th>8</th>\n",
       "      <td>Kölsch</td>\n",
       "      <td>27</td>\n",
       "    </tr>\n",
       "    <tr>\n",
       "      <th>9</th>\n",
       "      <td>Fruit / Vegetable Beer</td>\n",
       "      <td>27</td>\n",
       "    </tr>\n",
       "  </tbody>\n",
       "</table>\n",
       "</div>"
      ],
      "text/plain": [
       "                            style  counts\n",
       "0                    American IPA     288\n",
       "1         American Pale Ale (APA)     142\n",
       "2        American Amber / Red Ale      76\n",
       "3  American Double / Imperial IPA      72\n",
       "4             American Blonde Ale      58\n",
       "5         American Pale Wheat Ale      45\n",
       "6              American Brown Ale      37\n",
       "7                 American Porter      37\n",
       "8                          Kölsch      27\n",
       "9          Fruit / Vegetable Beer      27"
      ]
     },
     "execution_count": 8,
     "metadata": {},
     "output_type": "execute_result"
    }
   ],
   "source": [
    "#style groups with 26 or more\n",
    "style_counts_df[style_counts_df['counts'] > 26]            "
   ]
  },
  {
   "cell_type": "code",
   "execution_count": 22,
   "id": "recognized-concentration",
   "metadata": {
    "execution": {
     "iopub.execute_input": "2021-03-26T16:51:26.462221Z",
     "iopub.status.busy": "2021-03-26T16:51:26.462221Z",
     "iopub.status.idle": "2021-03-26T16:51:26.468165Z",
     "shell.execute_reply": "2021-03-26T16:51:26.468165Z",
     "shell.execute_reply.started": "2021-03-26T16:51:26.462221Z"
    }
   },
   "outputs": [],
   "source": [
    "# Create list of style groups for mapping \n",
    "style_list = style_counts_df[style_counts_df['counts'] > 26]['style'].to_list()"
   ]
  },
  {
   "cell_type": "code",
   "execution_count": 27,
   "id": "enabling-passing",
   "metadata": {
    "execution": {
     "iopub.execute_input": "2021-03-26T16:58:31.256583Z",
     "iopub.status.busy": "2021-03-26T16:58:31.256583Z",
     "iopub.status.idle": "2021-03-26T16:58:31.261570Z",
     "shell.execute_reply": "2021-03-26T16:58:31.261570Z",
     "shell.execute_reply.started": "2021-03-26T16:58:31.256583Z"
    }
   },
   "outputs": [],
   "source": [
    "style_df['style_group'] = style_df['style'].apply(lambda x: x if x in style_list else 'other')"
   ]
  },
  {
   "cell_type": "code",
   "execution_count": 29,
   "id": "productive-television",
   "metadata": {
    "execution": {
     "iopub.execute_input": "2021-03-26T16:58:58.049308Z",
     "iopub.status.busy": "2021-03-26T16:58:58.049308Z",
     "iopub.status.idle": "2021-03-26T16:58:58.056294Z",
     "shell.execute_reply": "2021-03-26T16:58:58.056294Z",
     "shell.execute_reply.started": "2021-03-26T16:58:58.049308Z"
    }
   },
   "outputs": [
    {
     "data": {
      "text/html": [
       "<div>\n",
       "<style scoped>\n",
       "    .dataframe tbody tr th:only-of-type {\n",
       "        vertical-align: middle;\n",
       "    }\n",
       "\n",
       "    .dataframe tbody tr th {\n",
       "        vertical-align: top;\n",
       "    }\n",
       "\n",
       "    .dataframe thead th {\n",
       "        text-align: right;\n",
       "    }\n",
       "</style>\n",
       "<table border=\"1\" class=\"dataframe\">\n",
       "  <thead>\n",
       "    <tr style=\"text-align: right;\">\n",
       "      <th></th>\n",
       "      <th>style</th>\n",
       "      <th>style_group</th>\n",
       "    </tr>\n",
       "  </thead>\n",
       "  <tbody>\n",
       "    <tr>\n",
       "      <th>0</th>\n",
       "      <td>American Pale Ale (APA)</td>\n",
       "      <td>American Pale Ale (APA)</td>\n",
       "    </tr>\n",
       "    <tr>\n",
       "      <th>1</th>\n",
       "      <td>American Barleywine</td>\n",
       "      <td>other</td>\n",
       "    </tr>\n",
       "    <tr>\n",
       "      <th>2</th>\n",
       "      <td>Winter Warmer</td>\n",
       "      <td>other</td>\n",
       "    </tr>\n",
       "    <tr>\n",
       "      <th>3</th>\n",
       "      <td>American Pale Ale (APA)</td>\n",
       "      <td>American Pale Ale (APA)</td>\n",
       "    </tr>\n",
       "    <tr>\n",
       "      <th>4</th>\n",
       "      <td>Fruit / Vegetable Beer</td>\n",
       "      <td>Fruit / Vegetable Beer</td>\n",
       "    </tr>\n",
       "  </tbody>\n",
       "</table>\n",
       "</div>"
      ],
      "text/plain": [
       "                     style              style_group\n",
       "0  American Pale Ale (APA)  American Pale Ale (APA)\n",
       "1      American Barleywine                    other\n",
       "2            Winter Warmer                    other\n",
       "3  American Pale Ale (APA)  American Pale Ale (APA)\n",
       "4   Fruit / Vegetable Beer   Fruit / Vegetable Beer"
      ]
     },
     "execution_count": 29,
     "metadata": {},
     "output_type": "execute_result"
    }
   ],
   "source": [
    "style_df.head()"
   ]
  },
  {
   "cell_type": "code",
   "execution_count": null,
   "id": "mobile-sensitivity",
   "metadata": {},
   "outputs": [],
   "source": []
  }
 ],
 "metadata": {
  "kernelspec": {
   "display_name": "PythonData",
   "language": "python",
   "name": "pythondata"
  },
  "language_info": {
   "codemirror_mode": {
    "name": "ipython",
    "version": 3
   },
   "file_extension": ".py",
   "mimetype": "text/x-python",
   "name": "python",
   "nbconvert_exporter": "python",
   "pygments_lexer": "ipython3",
   "version": "3.7.9"
  }
 },
 "nbformat": 4,
 "nbformat_minor": 5
}
