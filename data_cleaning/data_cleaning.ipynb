{
 "cells": [
  {
   "cell_type": "code",
   "execution_count": 1,
   "id": "every-instrument",
   "metadata": {
    "execution": {
     "iopub.execute_input": "2021-03-24T01:28:34.621155Z",
     "iopub.status.busy": "2021-03-24T01:28:34.620156Z",
     "iopub.status.idle": "2021-03-24T01:28:34.626139Z",
     "shell.execute_reply": "2021-03-24T01:28:34.625141Z",
     "shell.execute_reply.started": "2021-03-24T01:28:34.621155Z"
    }
   },
   "outputs": [],
   "source": [
    "#import dependecies \n",
    "import pandas as pd"
   ]
  },
  {
   "cell_type": "code",
   "execution_count": 2,
   "id": "immune-seeking",
   "metadata": {
    "execution": {
     "iopub.execute_input": "2021-03-24T01:28:36.893366Z",
     "iopub.status.busy": "2021-03-24T01:28:36.893366Z",
     "iopub.status.idle": "2021-03-24T01:28:37.571212Z",
     "shell.execute_reply": "2021-03-24T01:28:37.570215Z",
     "shell.execute_reply.started": "2021-03-24T01:28:36.893366Z"
    }
   },
   "outputs": [
    {
     "data": {
      "text/html": [
       "<div>\n",
       "<style scoped>\n",
       "    .dataframe tbody tr th:only-of-type {\n",
       "        vertical-align: middle;\n",
       "    }\n",
       "\n",
       "    .dataframe tbody tr th {\n",
       "        vertical-align: top;\n",
       "    }\n",
       "\n",
       "    .dataframe thead th {\n",
       "        text-align: right;\n",
       "    }\n",
       "</style>\n",
       "<table border=\"1\" class=\"dataframe\">\n",
       "  <thead>\n",
       "    <tr style=\"text-align: right;\">\n",
       "      <th></th>\n",
       "      <th>Unnamed: 0</th>\n",
       "      <th>abv</th>\n",
       "      <th>ibu</th>\n",
       "      <th>id</th>\n",
       "      <th>name</th>\n",
       "      <th>style</th>\n",
       "      <th>brewery_id</th>\n",
       "      <th>ounces</th>\n",
       "    </tr>\n",
       "  </thead>\n",
       "  <tbody>\n",
       "    <tr>\n",
       "      <th>0</th>\n",
       "      <td>0</td>\n",
       "      <td>0.050</td>\n",
       "      <td>NaN</td>\n",
       "      <td>1436</td>\n",
       "      <td>Pub Beer</td>\n",
       "      <td>American Pale Lager</td>\n",
       "      <td>408</td>\n",
       "      <td>12.0</td>\n",
       "    </tr>\n",
       "    <tr>\n",
       "      <th>1</th>\n",
       "      <td>1</td>\n",
       "      <td>0.066</td>\n",
       "      <td>NaN</td>\n",
       "      <td>2265</td>\n",
       "      <td>Devil's Cup</td>\n",
       "      <td>American Pale Ale (APA)</td>\n",
       "      <td>177</td>\n",
       "      <td>12.0</td>\n",
       "    </tr>\n",
       "    <tr>\n",
       "      <th>2</th>\n",
       "      <td>2</td>\n",
       "      <td>0.071</td>\n",
       "      <td>NaN</td>\n",
       "      <td>2264</td>\n",
       "      <td>Rise of the Phoenix</td>\n",
       "      <td>American IPA</td>\n",
       "      <td>177</td>\n",
       "      <td>12.0</td>\n",
       "    </tr>\n",
       "    <tr>\n",
       "      <th>3</th>\n",
       "      <td>3</td>\n",
       "      <td>0.090</td>\n",
       "      <td>NaN</td>\n",
       "      <td>2263</td>\n",
       "      <td>Sinister</td>\n",
       "      <td>American Double / Imperial IPA</td>\n",
       "      <td>177</td>\n",
       "      <td>12.0</td>\n",
       "    </tr>\n",
       "    <tr>\n",
       "      <th>4</th>\n",
       "      <td>4</td>\n",
       "      <td>0.075</td>\n",
       "      <td>NaN</td>\n",
       "      <td>2262</td>\n",
       "      <td>Sex and Candy</td>\n",
       "      <td>American IPA</td>\n",
       "      <td>177</td>\n",
       "      <td>12.0</td>\n",
       "    </tr>\n",
       "  </tbody>\n",
       "</table>\n",
       "</div>"
      ],
      "text/plain": [
       "   Unnamed: 0    abv  ibu    id                 name  \\\n",
       "0           0  0.050  NaN  1436             Pub Beer   \n",
       "1           1  0.066  NaN  2265          Devil's Cup   \n",
       "2           2  0.071  NaN  2264  Rise of the Phoenix   \n",
       "3           3  0.090  NaN  2263             Sinister   \n",
       "4           4  0.075  NaN  2262        Sex and Candy   \n",
       "\n",
       "                            style  brewery_id  ounces  \n",
       "0             American Pale Lager         408    12.0  \n",
       "1         American Pale Ale (APA)         177    12.0  \n",
       "2                    American IPA         177    12.0  \n",
       "3  American Double / Imperial IPA         177    12.0  \n",
       "4                    American IPA         177    12.0  "
      ]
     },
     "execution_count": 2,
     "metadata": {},
     "output_type": "execute_result"
    },
    {
     "data": {
      "text/html": [
       "<div>\n",
       "<style scoped>\n",
       "    .dataframe tbody tr th:only-of-type {\n",
       "        vertical-align: middle;\n",
       "    }\n",
       "\n",
       "    .dataframe tbody tr th {\n",
       "        vertical-align: top;\n",
       "    }\n",
       "\n",
       "    .dataframe thead th {\n",
       "        text-align: right;\n",
       "    }\n",
       "</style>\n",
       "<table border=\"1\" class=\"dataframe\">\n",
       "  <thead>\n",
       "    <tr style=\"text-align: right;\">\n",
       "      <th></th>\n",
       "      <th>Unnamed: 0</th>\n",
       "      <th>name</th>\n",
       "      <th>city</th>\n",
       "      <th>state</th>\n",
       "    </tr>\n",
       "  </thead>\n",
       "  <tbody>\n",
       "    <tr>\n",
       "      <th>0</th>\n",
       "      <td>0</td>\n",
       "      <td>NorthGate Brewing</td>\n",
       "      <td>Minneapolis</td>\n",
       "      <td>MN</td>\n",
       "    </tr>\n",
       "    <tr>\n",
       "      <th>1</th>\n",
       "      <td>1</td>\n",
       "      <td>Against the Grain Brewery</td>\n",
       "      <td>Louisville</td>\n",
       "      <td>KY</td>\n",
       "    </tr>\n",
       "    <tr>\n",
       "      <th>2</th>\n",
       "      <td>2</td>\n",
       "      <td>Jack's Abby Craft Lagers</td>\n",
       "      <td>Framingham</td>\n",
       "      <td>MA</td>\n",
       "    </tr>\n",
       "    <tr>\n",
       "      <th>3</th>\n",
       "      <td>3</td>\n",
       "      <td>Mike Hess Brewing Company</td>\n",
       "      <td>San Diego</td>\n",
       "      <td>CA</td>\n",
       "    </tr>\n",
       "    <tr>\n",
       "      <th>4</th>\n",
       "      <td>4</td>\n",
       "      <td>Fort Point Beer Company</td>\n",
       "      <td>San Francisco</td>\n",
       "      <td>CA</td>\n",
       "    </tr>\n",
       "  </tbody>\n",
       "</table>\n",
       "</div>"
      ],
      "text/plain": [
       "   Unnamed: 0                       name           city state\n",
       "0           0         NorthGate Brewing     Minneapolis    MN\n",
       "1           1  Against the Grain Brewery     Louisville    KY\n",
       "2           2   Jack's Abby Craft Lagers     Framingham    MA\n",
       "3           3  Mike Hess Brewing Company      San Diego    CA\n",
       "4           4    Fort Point Beer Company  San Francisco    CA"
      ]
     },
     "execution_count": 2,
     "metadata": {},
     "output_type": "execute_result"
    }
   ],
   "source": [
    "# assign link to beer and brewery data\n",
    "beer_url_data = 'https://raw.githubusercontent.com/niklasax/Final_Project/main/CSV_Files/beers.csv'\n",
    "brewery_data_url = 'https://raw.githubusercontent.com/niklasax/Final_Project/main/CSV_Files/breweries.csv'\n",
    "\n",
    "# read in data into dataframes \n",
    "beers_df = pd.read_csv(beer_url_data)\n",
    "brewerys_df = pd.read_csv(brewery_data_url)\n",
    "\n",
    "#review dataframe structures \n",
    "beers_df.head()\n",
    "brewerys_df.head()"
   ]
  },
  {
   "cell_type": "code",
   "execution_count": 3,
   "id": "alternate-protein",
   "metadata": {
    "execution": {
     "iopub.execute_input": "2021-03-24T01:28:46.362626Z",
     "iopub.status.busy": "2021-03-24T01:28:46.362626Z",
     "iopub.status.idle": "2021-03-24T01:28:46.395574Z",
     "shell.execute_reply": "2021-03-24T01:28:46.395574Z",
     "shell.execute_reply.started": "2021-03-24T01:28:46.362626Z"
    }
   },
   "outputs": [],
   "source": [
    "#drop column \n",
    "beers_df.drop('Unnamed: 0', axis=1, inplace=True)"
   ]
  },
  {
   "cell_type": "code",
   "execution_count": 4,
   "id": "aging-brother",
   "metadata": {
    "execution": {
     "iopub.execute_input": "2021-03-24T01:28:55.248169Z",
     "iopub.status.busy": "2021-03-24T01:28:55.248169Z",
     "iopub.status.idle": "2021-03-24T01:28:55.264650Z",
     "shell.execute_reply": "2021-03-24T01:28:55.264650Z",
     "shell.execute_reply.started": "2021-03-24T01:28:55.248169Z"
    }
   },
   "outputs": [
    {
     "data": {
      "text/html": [
       "<div>\n",
       "<style scoped>\n",
       "    .dataframe tbody tr th:only-of-type {\n",
       "        vertical-align: middle;\n",
       "    }\n",
       "\n",
       "    .dataframe tbody tr th {\n",
       "        vertical-align: top;\n",
       "    }\n",
       "\n",
       "    .dataframe thead th {\n",
       "        text-align: right;\n",
       "    }\n",
       "</style>\n",
       "<table border=\"1\" class=\"dataframe\">\n",
       "  <thead>\n",
       "    <tr style=\"text-align: right;\">\n",
       "      <th></th>\n",
       "      <th>abv</th>\n",
       "      <th>ibu</th>\n",
       "      <th>id</th>\n",
       "      <th>name</th>\n",
       "      <th>style</th>\n",
       "      <th>brewery_id</th>\n",
       "      <th>ounces</th>\n",
       "    </tr>\n",
       "  </thead>\n",
       "  <tbody>\n",
       "    <tr>\n",
       "      <th>0</th>\n",
       "      <td>0.050</td>\n",
       "      <td>NaN</td>\n",
       "      <td>1436</td>\n",
       "      <td>Pub Beer</td>\n",
       "      <td>American Pale Lager</td>\n",
       "      <td>408</td>\n",
       "      <td>12.0</td>\n",
       "    </tr>\n",
       "    <tr>\n",
       "      <th>1</th>\n",
       "      <td>0.066</td>\n",
       "      <td>NaN</td>\n",
       "      <td>2265</td>\n",
       "      <td>Devil's Cup</td>\n",
       "      <td>American Pale Ale (APA)</td>\n",
       "      <td>177</td>\n",
       "      <td>12.0</td>\n",
       "    </tr>\n",
       "    <tr>\n",
       "      <th>2</th>\n",
       "      <td>0.071</td>\n",
       "      <td>NaN</td>\n",
       "      <td>2264</td>\n",
       "      <td>Rise of the Phoenix</td>\n",
       "      <td>American IPA</td>\n",
       "      <td>177</td>\n",
       "      <td>12.0</td>\n",
       "    </tr>\n",
       "    <tr>\n",
       "      <th>3</th>\n",
       "      <td>0.090</td>\n",
       "      <td>NaN</td>\n",
       "      <td>2263</td>\n",
       "      <td>Sinister</td>\n",
       "      <td>American Double / Imperial IPA</td>\n",
       "      <td>177</td>\n",
       "      <td>12.0</td>\n",
       "    </tr>\n",
       "    <tr>\n",
       "      <th>4</th>\n",
       "      <td>0.075</td>\n",
       "      <td>NaN</td>\n",
       "      <td>2262</td>\n",
       "      <td>Sex and Candy</td>\n",
       "      <td>American IPA</td>\n",
       "      <td>177</td>\n",
       "      <td>12.0</td>\n",
       "    </tr>\n",
       "  </tbody>\n",
       "</table>\n",
       "</div>"
      ],
      "text/plain": [
       "     abv  ibu    id                 name                           style  \\\n",
       "0  0.050  NaN  1436             Pub Beer             American Pale Lager   \n",
       "1  0.066  NaN  2265          Devil's Cup         American Pale Ale (APA)   \n",
       "2  0.071  NaN  2264  Rise of the Phoenix                    American IPA   \n",
       "3  0.090  NaN  2263             Sinister  American Double / Imperial IPA   \n",
       "4  0.075  NaN  2262        Sex and Candy                    American IPA   \n",
       "\n",
       "   brewery_id  ounces  \n",
       "0         408    12.0  \n",
       "1         177    12.0  \n",
       "2         177    12.0  \n",
       "3         177    12.0  \n",
       "4         177    12.0  "
      ]
     },
     "execution_count": 4,
     "metadata": {},
     "output_type": "execute_result"
    }
   ],
   "source": [
    "beers_df.head()"
   ]
  },
  {
   "cell_type": "code",
   "execution_count": 6,
   "id": "tight-ghost",
   "metadata": {
    "execution": {
     "iopub.execute_input": "2021-03-24T01:29:43.941109Z",
     "iopub.status.busy": "2021-03-24T01:29:43.941109Z",
     "iopub.status.idle": "2021-03-24T01:29:43.960837Z",
     "shell.execute_reply": "2021-03-24T01:29:43.959839Z",
     "shell.execute_reply.started": "2021-03-24T01:29:43.941109Z"
    }
   },
   "outputs": [
    {
     "data": {
      "text/plain": [
       "'Unnamed: 0'"
      ]
     },
     "execution_count": 6,
     "metadata": {},
     "output_type": "execute_result"
    },
    {
     "data": {
      "text/html": [
       "<div>\n",
       "<style scoped>\n",
       "    .dataframe tbody tr th:only-of-type {\n",
       "        vertical-align: middle;\n",
       "    }\n",
       "\n",
       "    .dataframe tbody tr th {\n",
       "        vertical-align: top;\n",
       "    }\n",
       "\n",
       "    .dataframe thead th {\n",
       "        text-align: right;\n",
       "    }\n",
       "</style>\n",
       "<table border=\"1\" class=\"dataframe\">\n",
       "  <thead>\n",
       "    <tr style=\"text-align: right;\">\n",
       "      <th></th>\n",
       "      <th>brewery_id</th>\n",
       "      <th>name</th>\n",
       "      <th>city</th>\n",
       "      <th>state</th>\n",
       "    </tr>\n",
       "  </thead>\n",
       "  <tbody>\n",
       "    <tr>\n",
       "      <th>0</th>\n",
       "      <td>0</td>\n",
       "      <td>NorthGate Brewing</td>\n",
       "      <td>Minneapolis</td>\n",
       "      <td>MN</td>\n",
       "    </tr>\n",
       "    <tr>\n",
       "      <th>1</th>\n",
       "      <td>1</td>\n",
       "      <td>Against the Grain Brewery</td>\n",
       "      <td>Louisville</td>\n",
       "      <td>KY</td>\n",
       "    </tr>\n",
       "    <tr>\n",
       "      <th>2</th>\n",
       "      <td>2</td>\n",
       "      <td>Jack's Abby Craft Lagers</td>\n",
       "      <td>Framingham</td>\n",
       "      <td>MA</td>\n",
       "    </tr>\n",
       "    <tr>\n",
       "      <th>3</th>\n",
       "      <td>3</td>\n",
       "      <td>Mike Hess Brewing Company</td>\n",
       "      <td>San Diego</td>\n",
       "      <td>CA</td>\n",
       "    </tr>\n",
       "    <tr>\n",
       "      <th>4</th>\n",
       "      <td>4</td>\n",
       "      <td>Fort Point Beer Company</td>\n",
       "      <td>San Francisco</td>\n",
       "      <td>CA</td>\n",
       "    </tr>\n",
       "  </tbody>\n",
       "</table>\n",
       "</div>"
      ],
      "text/plain": [
       "   brewery_id                       name           city state\n",
       "0           0         NorthGate Brewing     Minneapolis    MN\n",
       "1           1  Against the Grain Brewery     Louisville    KY\n",
       "2           2   Jack's Abby Craft Lagers     Framingham    MA\n",
       "3           3  Mike Hess Brewing Company      San Diego    CA\n",
       "4           4    Fort Point Beer Company  San Francisco    CA"
      ]
     },
     "execution_count": 6,
     "metadata": {},
     "output_type": "execute_result"
    }
   ],
   "source": [
    "#renme column meant to be the id \n",
    "brewerys_df.columns[0]\n",
    "brewerys_df.rename({'Unnamed: 0':'brewery_id'},axis=1, inplace=True)\n",
    "brewerys_df.head()"
   ]
  },
  {
   "cell_type": "code",
   "execution_count": 8,
   "id": "excessive-miller",
   "metadata": {
    "execution": {
     "iopub.execute_input": "2021-03-24T01:30:35.173848Z",
     "iopub.status.busy": "2021-03-24T01:30:35.173848Z",
     "iopub.status.idle": "2021-03-24T01:30:35.186093Z",
     "shell.execute_reply": "2021-03-24T01:30:35.185583Z",
     "shell.execute_reply.started": "2021-03-24T01:30:35.173848Z"
    }
   },
   "outputs": [
    {
     "data": {
      "text/plain": [
       "abv             62\n",
       "ibu           1005\n",
       "id               0\n",
       "name             0\n",
       "style            5\n",
       "brewery_id       0\n",
       "ounces           0\n",
       "dtype: int64"
      ]
     },
     "execution_count": 8,
     "metadata": {},
     "output_type": "execute_result"
    },
    {
     "data": {
      "text/plain": [
       "brewery_id    0\n",
       "name          0\n",
       "city          0\n",
       "state         0\n",
       "dtype: int64"
      ]
     },
     "execution_count": 8,
     "metadata": {},
     "output_type": "execute_result"
    }
   ],
   "source": [
    "#check for null values \n",
    "beers_df.isnull().sum()\n",
    "brewerys_df.isnull().sum()"
   ]
  },
  {
   "cell_type": "code",
   "execution_count": 17,
   "id": "catholic-sydney",
   "metadata": {
    "execution": {
     "iopub.execute_input": "2021-03-21T00:23:19.968133Z",
     "iopub.status.busy": "2021-03-21T00:23:19.967135Z",
     "iopub.status.idle": "2021-03-21T00:23:19.996092Z",
     "shell.execute_reply": "2021-03-21T00:23:19.996092Z",
     "shell.execute_reply.started": "2021-03-21T00:23:19.968133Z"
    }
   },
   "outputs": [
    {
     "data": {
      "text/html": [
       "<div>\n",
       "<style scoped>\n",
       "    .dataframe tbody tr th:only-of-type {\n",
       "        vertical-align: middle;\n",
       "    }\n",
       "\n",
       "    .dataframe tbody tr th {\n",
       "        vertical-align: top;\n",
       "    }\n",
       "\n",
       "    .dataframe thead th {\n",
       "        text-align: right;\n",
       "    }\n",
       "</style>\n",
       "<table border=\"1\" class=\"dataframe\">\n",
       "  <thead>\n",
       "    <tr style=\"text-align: right;\">\n",
       "      <th></th>\n",
       "      <th>abv</th>\n",
       "      <th>ibu</th>\n",
       "      <th>id</th>\n",
       "      <th>name</th>\n",
       "      <th>style</th>\n",
       "      <th>brewery_id</th>\n",
       "      <th>ounces</th>\n",
       "      <th>brewery_id_brewery</th>\n",
       "      <th>name_brewery</th>\n",
       "      <th>city</th>\n",
       "      <th>state</th>\n",
       "    </tr>\n",
       "  </thead>\n",
       "  <tbody>\n",
       "    <tr>\n",
       "      <th>294</th>\n",
       "      <td>NaN</td>\n",
       "      <td>NaN</td>\n",
       "      <td>1541</td>\n",
       "      <td>Double Play Pilsner</td>\n",
       "      <td>American Pilsner</td>\n",
       "      <td>380</td>\n",
       "      <td>12.0</td>\n",
       "      <td>380</td>\n",
       "      <td>Blue Blood Brewing Company</td>\n",
       "      <td>Lincoln</td>\n",
       "      <td>NE</td>\n",
       "    </tr>\n",
       "    <tr>\n",
       "      <th>299</th>\n",
       "      <td>NaN</td>\n",
       "      <td>NaN</td>\n",
       "      <td>1025</td>\n",
       "      <td>N Street Drive-In 50th Anniversary IPA</td>\n",
       "      <td>American Double / Imperial IPA</td>\n",
       "      <td>380</td>\n",
       "      <td>12.0</td>\n",
       "      <td>380</td>\n",
       "      <td>Blue Blood Brewing Company</td>\n",
       "      <td>Lincoln</td>\n",
       "      <td>NE</td>\n",
       "    </tr>\n",
       "    <tr>\n",
       "      <th>315</th>\n",
       "      <td>NaN</td>\n",
       "      <td>NaN</td>\n",
       "      <td>2490</td>\n",
       "      <td>Professor Black</td>\n",
       "      <td>American Stout</td>\n",
       "      <td>77</td>\n",
       "      <td>12.0</td>\n",
       "      <td>77</td>\n",
       "      <td>Blue Owl Brewing</td>\n",
       "      <td>Austin</td>\n",
       "      <td>TX</td>\n",
       "    </tr>\n",
       "    <tr>\n",
       "      <th>316</th>\n",
       "      <td>NaN</td>\n",
       "      <td>NaN</td>\n",
       "      <td>2489</td>\n",
       "      <td>Little Boss</td>\n",
       "      <td>American Pale Wheat Ale</td>\n",
       "      <td>77</td>\n",
       "      <td>12.0</td>\n",
       "      <td>77</td>\n",
       "      <td>Blue Owl Brewing</td>\n",
       "      <td>Austin</td>\n",
       "      <td>TX</td>\n",
       "    </tr>\n",
       "    <tr>\n",
       "      <th>317</th>\n",
       "      <td>NaN</td>\n",
       "      <td>NaN</td>\n",
       "      <td>2488</td>\n",
       "      <td>Van Dayum!</td>\n",
       "      <td>American Amber / Red Ale</td>\n",
       "      <td>77</td>\n",
       "      <td>12.0</td>\n",
       "      <td>77</td>\n",
       "      <td>Blue Owl Brewing</td>\n",
       "      <td>Austin</td>\n",
       "      <td>TX</td>\n",
       "    </tr>\n",
       "    <tr>\n",
       "      <th>...</th>\n",
       "      <td>...</td>\n",
       "      <td>...</td>\n",
       "      <td>...</td>\n",
       "      <td>...</td>\n",
       "      <td>...</td>\n",
       "      <td>...</td>\n",
       "      <td>...</td>\n",
       "      <td>...</td>\n",
       "      <td>...</td>\n",
       "      <td>...</td>\n",
       "      <td>...</td>\n",
       "    </tr>\n",
       "    <tr>\n",
       "      <th>2186</th>\n",
       "      <td>NaN</td>\n",
       "      <td>NaN</td>\n",
       "      <td>121</td>\n",
       "      <td>Cornstalker Dark Wheat</td>\n",
       "      <td>American Dark Wheat Ale</td>\n",
       "      <td>282</td>\n",
       "      <td>12.0</td>\n",
       "      <td>282</td>\n",
       "      <td>Thunderhead Brewing Company</td>\n",
       "      <td>Kearney</td>\n",
       "      <td>NE</td>\n",
       "    </tr>\n",
       "    <tr>\n",
       "      <th>2337</th>\n",
       "      <td>NaN</td>\n",
       "      <td>NaN</td>\n",
       "      <td>652</td>\n",
       "      <td>West Sixth IPA</td>\n",
       "      <td>American IPA</td>\n",
       "      <td>100</td>\n",
       "      <td>12.0</td>\n",
       "      <td>100</td>\n",
       "      <td>West Sixth Brewing</td>\n",
       "      <td>Lexington</td>\n",
       "      <td>KY</td>\n",
       "    </tr>\n",
       "    <tr>\n",
       "      <th>2345</th>\n",
       "      <td>NaN</td>\n",
       "      <td>NaN</td>\n",
       "      <td>2364</td>\n",
       "      <td>Royal Lager</td>\n",
       "      <td>American Pale Lager</td>\n",
       "      <td>132</td>\n",
       "      <td>16.0</td>\n",
       "      <td>132</td>\n",
       "      <td>Weston Brewing Company</td>\n",
       "      <td>Weston</td>\n",
       "      <td>MO</td>\n",
       "    </tr>\n",
       "    <tr>\n",
       "      <th>2347</th>\n",
       "      <td>NaN</td>\n",
       "      <td>NaN</td>\n",
       "      <td>2344</td>\n",
       "      <td>O’Malley’s Stout</td>\n",
       "      <td>English Stout</td>\n",
       "      <td>132</td>\n",
       "      <td>12.0</td>\n",
       "      <td>132</td>\n",
       "      <td>Weston Brewing Company</td>\n",
       "      <td>Weston</td>\n",
       "      <td>MO</td>\n",
       "    </tr>\n",
       "    <tr>\n",
       "      <th>2349</th>\n",
       "      <td>NaN</td>\n",
       "      <td>NaN</td>\n",
       "      <td>2342</td>\n",
       "      <td>O’Malley’s Irish Style Cream Ale</td>\n",
       "      <td>Cream Ale</td>\n",
       "      <td>132</td>\n",
       "      <td>12.0</td>\n",
       "      <td>132</td>\n",
       "      <td>Weston Brewing Company</td>\n",
       "      <td>Weston</td>\n",
       "      <td>MO</td>\n",
       "    </tr>\n",
       "  </tbody>\n",
       "</table>\n",
       "<p>62 rows × 11 columns</p>\n",
       "</div>"
      ],
      "text/plain": [
       "      abv  ibu    id                                    name  \\\n",
       "294   NaN  NaN  1541                     Double Play Pilsner   \n",
       "299   NaN  NaN  1025  N Street Drive-In 50th Anniversary IPA   \n",
       "315   NaN  NaN  2490                         Professor Black   \n",
       "316   NaN  NaN  2489                             Little Boss   \n",
       "317   NaN  NaN  2488                              Van Dayum!   \n",
       "...   ...  ...   ...                                     ...   \n",
       "2186  NaN  NaN   121                  Cornstalker Dark Wheat   \n",
       "2337  NaN  NaN   652                          West Sixth IPA   \n",
       "2345  NaN  NaN  2364                             Royal Lager   \n",
       "2347  NaN  NaN  2344                        O’Malley’s Stout   \n",
       "2349  NaN  NaN  2342        O’Malley’s Irish Style Cream Ale   \n",
       "\n",
       "                               style  brewery_id  ounces  brewery_id_brewery  \\\n",
       "294                 American Pilsner         380    12.0                 380   \n",
       "299   American Double / Imperial IPA         380    12.0                 380   \n",
       "315                   American Stout          77    12.0                  77   \n",
       "316          American Pale Wheat Ale          77    12.0                  77   \n",
       "317         American Amber / Red Ale          77    12.0                  77   \n",
       "...                              ...         ...     ...                 ...   \n",
       "2186         American Dark Wheat Ale         282    12.0                 282   \n",
       "2337                    American IPA         100    12.0                 100   \n",
       "2345             American Pale Lager         132    16.0                 132   \n",
       "2347                   English Stout         132    12.0                 132   \n",
       "2349                       Cream Ale         132    12.0                 132   \n",
       "\n",
       "                     name_brewery       city state  \n",
       "294    Blue Blood Brewing Company    Lincoln    NE  \n",
       "299    Blue Blood Brewing Company    Lincoln    NE  \n",
       "315              Blue Owl Brewing     Austin    TX  \n",
       "316              Blue Owl Brewing     Austin    TX  \n",
       "317              Blue Owl Brewing     Austin    TX  \n",
       "...                           ...        ...   ...  \n",
       "2186  Thunderhead Brewing Company    Kearney    NE  \n",
       "2337           West Sixth Brewing  Lexington    KY  \n",
       "2345       Weston Brewing Company     Weston    MO  \n",
       "2347       Weston Brewing Company     Weston    MO  \n",
       "2349       Weston Brewing Company     Weston    MO  \n",
       "\n",
       "[62 rows x 11 columns]"
      ]
     },
     "execution_count": 17,
     "metadata": {},
     "output_type": "execute_result"
    }
   ],
   "source": [
    "#dynamically review drop cases \n",
    "beers_df[(beers_df['abv'].isnull()) & (beers_df['ibu'].isnull())]"
   ]
  },
  {
   "cell_type": "code",
   "execution_count": 10,
   "id": "bottom-repository",
   "metadata": {
    "execution": {
     "iopub.execute_input": "2021-03-24T01:41:44.432896Z",
     "iopub.status.busy": "2021-03-24T01:41:44.432896Z",
     "iopub.status.idle": "2021-03-24T01:41:44.446085Z",
     "shell.execute_reply": "2021-03-24T01:41:44.445086Z",
     "shell.execute_reply.started": "2021-03-24T01:41:44.432896Z"
    }
   },
   "outputs": [
    {
     "data": {
      "text/plain": [
       "1005"
      ]
     },
     "execution_count": 10,
     "metadata": {},
     "output_type": "execute_result"
    }
   ],
   "source": [
    "#create drop list   \n",
    "drop_list_1 = beers_df[beers_df.ibu.isnull()].index.to_list()\n",
    "len(drop_list_1)"
   ]
  },
  {
   "cell_type": "code",
   "execution_count": 11,
   "id": "backed-plant",
   "metadata": {
    "execution": {
     "iopub.execute_input": "2021-03-24T01:41:59.824463Z",
     "iopub.status.busy": "2021-03-24T01:41:59.823466Z",
     "iopub.status.idle": "2021-03-24T01:41:59.840420Z",
     "shell.execute_reply": "2021-03-24T01:41:59.839424Z",
     "shell.execute_reply.started": "2021-03-24T01:41:59.824463Z"
    }
   },
   "outputs": [
    {
     "data": {
      "text/plain": [
       "abv           0\n",
       "ibu           0\n",
       "id            0\n",
       "name          0\n",
       "style         2\n",
       "brewery_id    0\n",
       "ounces        0\n",
       "dtype: int64"
      ]
     },
     "execution_count": 11,
     "metadata": {},
     "output_type": "execute_result"
    }
   ],
   "source": [
    "#drop missing values and review \n",
    "beers_df.drop(drop_list_1,axis=0, inplace=True)\n",
    "beers_df.isnull().sum()"
   ]
  },
  {
   "cell_type": "code",
   "execution_count": 12,
   "id": "robust-seventh",
   "metadata": {
    "execution": {
     "iopub.execute_input": "2021-03-24T01:43:14.165423Z",
     "iopub.status.busy": "2021-03-24T01:43:14.165423Z",
     "iopub.status.idle": "2021-03-24T01:43:14.175444Z",
     "shell.execute_reply": "2021-03-24T01:43:14.173403Z",
     "shell.execute_reply.started": "2021-03-24T01:43:14.165423Z"
    }
   },
   "outputs": [
    {
     "data": {
      "text/plain": [
       "2"
      ]
     },
     "execution_count": 12,
     "metadata": {},
     "output_type": "execute_result"
    }
   ],
   "source": [
    "# create drop list \n",
    "drop_list_2 = beers_df[beers_df['style'].isnull()].index\n",
    "len(drop_list_2)"
   ]
  },
  {
   "cell_type": "code",
   "execution_count": 13,
   "id": "universal-addiction",
   "metadata": {
    "execution": {
     "iopub.execute_input": "2021-03-24T01:43:47.375284Z",
     "iopub.status.busy": "2021-03-24T01:43:47.375284Z",
     "iopub.status.idle": "2021-03-24T01:43:47.415410Z",
     "shell.execute_reply": "2021-03-24T01:43:47.414411Z",
     "shell.execute_reply.started": "2021-03-24T01:43:47.375284Z"
    }
   },
   "outputs": [
    {
     "data": {
      "text/plain": [
       "abv           0\n",
       "ibu           0\n",
       "id            0\n",
       "name          0\n",
       "style         0\n",
       "brewery_id    0\n",
       "ounces        0\n",
       "dtype: int64"
      ]
     },
     "execution_count": 13,
     "metadata": {},
     "output_type": "execute_result"
    }
   ],
   "source": [
    "#drop missing values and review \n",
    "\n",
    "beers_df.drop(drop_list_2,axis=0,inplace=True)\n",
    "beers_df.isnull().sum()"
   ]
  },
  {
   "cell_type": "code",
   "execution_count": 14,
   "id": "mexican-bernard",
   "metadata": {
    "execution": {
     "iopub.execute_input": "2021-03-24T01:44:41.263218Z",
     "iopub.status.busy": "2021-03-24T01:44:41.263218Z",
     "iopub.status.idle": "2021-03-24T01:44:41.289544Z",
     "shell.execute_reply": "2021-03-24T01:44:41.289544Z",
     "shell.execute_reply.started": "2021-03-24T01:44:41.263218Z"
    }
   },
   "outputs": [
    {
     "name": "stdout",
     "output_type": "stream",
     "text": [
      "<class 'pandas.core.frame.DataFrame'>\n",
      "Int64Index: 1403 entries, 14 to 2408\n",
      "Data columns (total 7 columns):\n",
      " #   Column      Non-Null Count  Dtype  \n",
      "---  ------      --------------  -----  \n",
      " 0   abv         1403 non-null   float64\n",
      " 1   ibu         1403 non-null   float64\n",
      " 2   id          1403 non-null   int64  \n",
      " 3   name        1403 non-null   object \n",
      " 4   style       1403 non-null   object \n",
      " 5   brewery_id  1403 non-null   int64  \n",
      " 6   ounces      1403 non-null   float64\n",
      "dtypes: float64(3), int64(2), object(2)\n",
      "memory usage: 87.7+ KB\n"
     ]
    }
   ],
   "source": [
    "#review \n",
    "beers_df.info()"
   ]
  },
  {
   "cell_type": "code",
   "execution_count": 15,
   "id": "conceptual-addiction",
   "metadata": {
    "execution": {
     "iopub.execute_input": "2021-03-24T01:44:51.500381Z",
     "iopub.status.busy": "2021-03-24T01:44:51.500381Z",
     "iopub.status.idle": "2021-03-24T01:44:51.512345Z",
     "shell.execute_reply": "2021-03-24T01:44:51.511347Z",
     "shell.execute_reply.started": "2021-03-24T01:44:51.500381Z"
    }
   },
   "outputs": [
    {
     "data": {
      "text/plain": [
       "90"
      ]
     },
     "execution_count": 15,
     "metadata": {},
     "output_type": "execute_result"
    },
    {
     "data": {
      "text/plain": [
       "array(['American Pale Ale (APA)', 'American Barleywine', 'Winter Warmer',\n",
       "       'Fruit / Vegetable Beer', 'American IPA', 'English Strong Ale',\n",
       "       'American Double / Imperial IPA', 'American Black Ale',\n",
       "       'Belgian Dark Ale', 'Berliner Weissbier', 'American Blonde Ale',\n",
       "       'American Pale Wheat Ale', 'Kölsch', 'English Pale Ale',\n",
       "       'American Amber / Red Lager', 'American Brown Ale',\n",
       "       'English Barleywine', 'Milk / Sweet Stout', 'German Pilsener',\n",
       "       'Pumpkin Ale', 'Belgian Pale Ale', 'American Pilsner',\n",
       "       'Saison / Farmhouse Ale', 'English Brown Ale', 'American Stout',\n",
       "       'Altbier', 'Oatmeal Stout', 'Cream Ale',\n",
       "       'American Amber / Red Ale', 'Vienna Lager', 'American Porter',\n",
       "       'American Double / Imperial Stout', 'Gose', 'Munich Helles Lager',\n",
       "       'Witbier', 'Märzen / Oktoberfest', 'Tripel', 'Rye Beer',\n",
       "       'American Pale Lager', 'Euro Dark Lager',\n",
       "       'California Common / Steam Beer', 'Schwarzbier', 'Hefeweizen',\n",
       "       'Other', 'English India Pale Ale (IPA)',\n",
       "       'Extra Special / Strong Bitter (ESB)', 'American Strong Ale',\n",
       "       'Czech Pilsener', 'Foreign / Export Stout', 'Euro Pale Lager',\n",
       "       'American White IPA', 'Irish Dry Stout', 'Scotch Ale / Wee Heavy',\n",
       "       'Radler', 'Irish Red Ale', 'Herbed / Spiced Beer',\n",
       "       'American Adjunct Lager', 'Scottish Ale', 'Smoked Beer', 'Bock',\n",
       "       'Belgian Strong Pale Ale', 'English Pale Mild Ale',\n",
       "       'Abbey Single Ale', 'Belgian IPA', 'Roggenbier',\n",
       "       'Dortmunder / Export Lager', 'American Dark Wheat Ale',\n",
       "       'English Stout', 'English Dark Mild Ale', 'Russian Imperial Stout',\n",
       "       'Keller Bier / Zwickel Bier', 'American India Pale Lager',\n",
       "       'Doppelbock', 'Munich Dunkel Lager', 'Maibock / Helles Bock',\n",
       "       'Wheat Ale', 'Light Lager', 'Dunkelweizen', 'Baltic Porter',\n",
       "       'English Bitter', 'Belgian Strong Dark Ale', 'Dubbel',\n",
       "       'Chile Beer', 'Grisette', 'Bière de Garde', 'Old Ale',\n",
       "       'Flanders Oud Bruin', 'Quadrupel (Quad)', 'American Wild Ale',\n",
       "       'American Double / Imperial Pilsner'], dtype=object)"
      ]
     },
     "execution_count": 15,
     "metadata": {},
     "output_type": "execute_result"
    }
   ],
   "source": [
    "# review style column \n",
    "beers_df['style'].nunique()\n",
    "beers_df['style'].unique()"
   ]
  },
  {
   "cell_type": "code",
   "execution_count": 17,
   "id": "presidential-america",
   "metadata": {
    "execution": {
     "iopub.execute_input": "2021-03-24T01:46:55.488539Z",
     "iopub.status.busy": "2021-03-24T01:46:55.488539Z",
     "iopub.status.idle": "2021-03-24T01:46:55.513992Z",
     "shell.execute_reply": "2021-03-24T01:46:55.513992Z",
     "shell.execute_reply.started": "2021-03-24T01:46:55.488539Z"
    }
   },
   "outputs": [
    {
     "data": {
      "text/html": [
       "<div>\n",
       "<style scoped>\n",
       "    .dataframe tbody tr th:only-of-type {\n",
       "        vertical-align: middle;\n",
       "    }\n",
       "\n",
       "    .dataframe tbody tr th {\n",
       "        vertical-align: top;\n",
       "    }\n",
       "\n",
       "    .dataframe thead th {\n",
       "        text-align: right;\n",
       "    }\n",
       "</style>\n",
       "<table border=\"1\" class=\"dataframe\">\n",
       "  <thead>\n",
       "    <tr style=\"text-align: right;\">\n",
       "      <th></th>\n",
       "      <th>abv</th>\n",
       "      <th>ibu</th>\n",
       "      <th>id</th>\n",
       "      <th>name</th>\n",
       "      <th>style</th>\n",
       "      <th>brewery_id</th>\n",
       "      <th>ounces</th>\n",
       "    </tr>\n",
       "  </thead>\n",
       "  <tbody>\n",
       "    <tr>\n",
       "      <th>14</th>\n",
       "      <td>0.061</td>\n",
       "      <td>60.0</td>\n",
       "      <td>1979</td>\n",
       "      <td>Bitter Bitch</td>\n",
       "      <td>American Pale Ale (APA)</td>\n",
       "      <td>177</td>\n",
       "      <td>12.0</td>\n",
       "    </tr>\n",
       "    <tr>\n",
       "      <th>21</th>\n",
       "      <td>0.099</td>\n",
       "      <td>92.0</td>\n",
       "      <td>1036</td>\n",
       "      <td>Lower De Boom</td>\n",
       "      <td>American Barleywine</td>\n",
       "      <td>368</td>\n",
       "      <td>8.4</td>\n",
       "    </tr>\n",
       "  </tbody>\n",
       "</table>\n",
       "</div>"
      ],
      "text/plain": [
       "      abv   ibu    id           name                    style  brewery_id  \\\n",
       "14  0.061  60.0  1979   Bitter Bitch  American Pale Ale (APA)         177   \n",
       "21  0.099  92.0  1036  Lower De Boom      American Barleywine         368   \n",
       "\n",
       "    ounces  \n",
       "14    12.0  \n",
       "21     8.4  "
      ]
     },
     "execution_count": 17,
     "metadata": {},
     "output_type": "execute_result"
    },
    {
     "data": {
      "text/html": [
       "<div>\n",
       "<style scoped>\n",
       "    .dataframe tbody tr th:only-of-type {\n",
       "        vertical-align: middle;\n",
       "    }\n",
       "\n",
       "    .dataframe tbody tr th {\n",
       "        vertical-align: top;\n",
       "    }\n",
       "\n",
       "    .dataframe thead th {\n",
       "        text-align: right;\n",
       "    }\n",
       "</style>\n",
       "<table border=\"1\" class=\"dataframe\">\n",
       "  <thead>\n",
       "    <tr style=\"text-align: right;\">\n",
       "      <th></th>\n",
       "      <th>brewery_id</th>\n",
       "      <th>name</th>\n",
       "      <th>city</th>\n",
       "      <th>state</th>\n",
       "    </tr>\n",
       "  </thead>\n",
       "  <tbody>\n",
       "    <tr>\n",
       "      <th>0</th>\n",
       "      <td>0</td>\n",
       "      <td>NorthGate Brewing</td>\n",
       "      <td>Minneapolis</td>\n",
       "      <td>MN</td>\n",
       "    </tr>\n",
       "    <tr>\n",
       "      <th>1</th>\n",
       "      <td>1</td>\n",
       "      <td>Against the Grain Brewery</td>\n",
       "      <td>Louisville</td>\n",
       "      <td>KY</td>\n",
       "    </tr>\n",
       "  </tbody>\n",
       "</table>\n",
       "</div>"
      ],
      "text/plain": [
       "   brewery_id                       name         city state\n",
       "0           0         NorthGate Brewing   Minneapolis    MN\n",
       "1           1  Against the Grain Brewery   Louisville    KY"
      ]
     },
     "execution_count": 17,
     "metadata": {},
     "output_type": "execute_result"
    }
   ],
   "source": [
    "#review columns \n",
    "beers_df.head(2)\n",
    "brewerys_df.head(2)"
   ]
  },
  {
   "cell_type": "code",
   "execution_count": 18,
   "id": "modular-script",
   "metadata": {
    "execution": {
     "iopub.execute_input": "2021-03-24T01:48:48.243031Z",
     "iopub.status.busy": "2021-03-24T01:48:48.243031Z",
     "iopub.status.idle": "2021-03-24T01:48:48.266529Z",
     "shell.execute_reply": "2021-03-24T01:48:48.265517Z",
     "shell.execute_reply.started": "2021-03-24T01:48:48.243031Z"
    }
   },
   "outputs": [
    {
     "data": {
      "text/html": [
       "<div>\n",
       "<style scoped>\n",
       "    .dataframe tbody tr th:only-of-type {\n",
       "        vertical-align: middle;\n",
       "    }\n",
       "\n",
       "    .dataframe tbody tr th {\n",
       "        vertical-align: top;\n",
       "    }\n",
       "\n",
       "    .dataframe thead th {\n",
       "        text-align: right;\n",
       "    }\n",
       "</style>\n",
       "<table border=\"1\" class=\"dataframe\">\n",
       "  <thead>\n",
       "    <tr style=\"text-align: right;\">\n",
       "      <th></th>\n",
       "      <th>abv</th>\n",
       "      <th>ibu</th>\n",
       "      <th>beer_id</th>\n",
       "      <th>beer_name</th>\n",
       "      <th>style</th>\n",
       "      <th>brewery_id</th>\n",
       "      <th>ounces</th>\n",
       "    </tr>\n",
       "  </thead>\n",
       "  <tbody>\n",
       "    <tr>\n",
       "      <th>14</th>\n",
       "      <td>0.061</td>\n",
       "      <td>60.0</td>\n",
       "      <td>1979</td>\n",
       "      <td>Bitter Bitch</td>\n",
       "      <td>American Pale Ale (APA)</td>\n",
       "      <td>177</td>\n",
       "      <td>12.0</td>\n",
       "    </tr>\n",
       "    <tr>\n",
       "      <th>21</th>\n",
       "      <td>0.099</td>\n",
       "      <td>92.0</td>\n",
       "      <td>1036</td>\n",
       "      <td>Lower De Boom</td>\n",
       "      <td>American Barleywine</td>\n",
       "      <td>368</td>\n",
       "      <td>8.4</td>\n",
       "    </tr>\n",
       "  </tbody>\n",
       "</table>\n",
       "</div>"
      ],
      "text/plain": [
       "      abv   ibu  beer_id      beer_name                    style  brewery_id  \\\n",
       "14  0.061  60.0     1979   Bitter Bitch  American Pale Ale (APA)         177   \n",
       "21  0.099  92.0     1036  Lower De Boom      American Barleywine         368   \n",
       "\n",
       "    ounces  \n",
       "14    12.0  \n",
       "21     8.4  "
      ]
     },
     "execution_count": 18,
     "metadata": {},
     "output_type": "execute_result"
    },
    {
     "data": {
      "text/html": [
       "<div>\n",
       "<style scoped>\n",
       "    .dataframe tbody tr th:only-of-type {\n",
       "        vertical-align: middle;\n",
       "    }\n",
       "\n",
       "    .dataframe tbody tr th {\n",
       "        vertical-align: top;\n",
       "    }\n",
       "\n",
       "    .dataframe thead th {\n",
       "        text-align: right;\n",
       "    }\n",
       "</style>\n",
       "<table border=\"1\" class=\"dataframe\">\n",
       "  <thead>\n",
       "    <tr style=\"text-align: right;\">\n",
       "      <th></th>\n",
       "      <th>brewery_id</th>\n",
       "      <th>brewery_name</th>\n",
       "      <th>city</th>\n",
       "      <th>state</th>\n",
       "    </tr>\n",
       "  </thead>\n",
       "  <tbody>\n",
       "    <tr>\n",
       "      <th>0</th>\n",
       "      <td>0</td>\n",
       "      <td>NorthGate Brewing</td>\n",
       "      <td>Minneapolis</td>\n",
       "      <td>MN</td>\n",
       "    </tr>\n",
       "    <tr>\n",
       "      <th>1</th>\n",
       "      <td>1</td>\n",
       "      <td>Against the Grain Brewery</td>\n",
       "      <td>Louisville</td>\n",
       "      <td>KY</td>\n",
       "    </tr>\n",
       "  </tbody>\n",
       "</table>\n",
       "</div>"
      ],
      "text/plain": [
       "   brewery_id               brewery_name         city state\n",
       "0           0         NorthGate Brewing   Minneapolis    MN\n",
       "1           1  Against the Grain Brewery   Louisville    KY"
      ]
     },
     "execution_count": 18,
     "metadata": {},
     "output_type": "execute_result"
    }
   ],
   "source": [
    "#rename columns \n",
    "beers_df.rename({'id':'beer_id',\n",
    "                       'name':'beer_name'},\n",
    "                        axis=1, inplace=True)\n",
    "\n",
    "brewerys_df.rename({'name':'brewery_name'},\n",
    "                      axis=1, inplace=True)\n",
    "\n",
    "beers_df.head(2)\n",
    "brewerys_df.head(2)"
   ]
  },
  {
   "cell_type": "code",
   "execution_count": 20,
   "id": "swiss-renaissance",
   "metadata": {
    "execution": {
     "iopub.execute_input": "2021-03-24T01:49:12.925428Z",
     "iopub.status.busy": "2021-03-24T01:49:12.924431Z",
     "iopub.status.idle": "2021-03-24T01:49:12.964531Z",
     "shell.execute_reply": "2021-03-24T01:49:12.963533Z",
     "shell.execute_reply.started": "2021-03-24T01:49:12.924431Z"
    }
   },
   "outputs": [
    {
     "data": {
      "text/plain": [
       "77"
      ]
     },
     "execution_count": 20,
     "metadata": {},
     "output_type": "execute_result"
    }
   ],
   "source": [
    "#check for duplicates \n",
    "beers_df.duplicated(subset='beer_name').sum()"
   ]
  },
  {
   "cell_type": "code",
   "execution_count": 21,
   "id": "junior-sucking",
   "metadata": {
    "execution": {
     "iopub.execute_input": "2021-03-24T01:51:11.930607Z",
     "iopub.status.busy": "2021-03-24T01:51:11.929610Z",
     "iopub.status.idle": "2021-03-24T01:51:11.961551Z",
     "shell.execute_reply": "2021-03-24T01:51:11.960555Z",
     "shell.execute_reply.started": "2021-03-24T01:51:11.930607Z"
    }
   },
   "outputs": [
    {
     "data": {
      "text/html": [
       "<div>\n",
       "<style scoped>\n",
       "    .dataframe tbody tr th:only-of-type {\n",
       "        vertical-align: middle;\n",
       "    }\n",
       "\n",
       "    .dataframe tbody tr th {\n",
       "        vertical-align: top;\n",
       "    }\n",
       "\n",
       "    .dataframe thead th {\n",
       "        text-align: right;\n",
       "    }\n",
       "</style>\n",
       "<table border=\"1\" class=\"dataframe\">\n",
       "  <thead>\n",
       "    <tr style=\"text-align: right;\">\n",
       "      <th></th>\n",
       "      <th>abv</th>\n",
       "      <th>ibu</th>\n",
       "      <th>beer_id</th>\n",
       "      <th>beer_name</th>\n",
       "      <th>style</th>\n",
       "      <th>brewery_id</th>\n",
       "      <th>ounces</th>\n",
       "    </tr>\n",
       "  </thead>\n",
       "  <tbody>\n",
       "    <tr>\n",
       "      <th>26</th>\n",
       "      <td>0.049</td>\n",
       "      <td>17.0</td>\n",
       "      <td>801</td>\n",
       "      <td>Hell or High Watermelon Wheat (2009)</td>\n",
       "      <td>Fruit / Vegetable Beer</td>\n",
       "      <td>368</td>\n",
       "      <td>12.0</td>\n",
       "    </tr>\n",
       "    <tr>\n",
       "      <th>69</th>\n",
       "      <td>0.080</td>\n",
       "      <td>68.0</td>\n",
       "      <td>2686</td>\n",
       "      <td>Citra Ass Down</td>\n",
       "      <td>American Double / Imperial IPA</td>\n",
       "      <td>1</td>\n",
       "      <td>16.0</td>\n",
       "    </tr>\n",
       "    <tr>\n",
       "      <th>81</th>\n",
       "      <td>0.050</td>\n",
       "      <td>20.0</td>\n",
       "      <td>2674</td>\n",
       "      <td>The Brown Note</td>\n",
       "      <td>English Brown Ale</td>\n",
       "      <td>1</td>\n",
       "      <td>16.0</td>\n",
       "    </tr>\n",
       "    <tr>\n",
       "      <th>109</th>\n",
       "      <td>0.057</td>\n",
       "      <td>13.0</td>\n",
       "      <td>1221</td>\n",
       "      <td>Barney Flats Oatmeal Stout</td>\n",
       "      <td>Oatmeal Stout</td>\n",
       "      <td>171</td>\n",
       "      <td>12.0</td>\n",
       "    </tr>\n",
       "    <tr>\n",
       "      <th>304</th>\n",
       "      <td>0.056</td>\n",
       "      <td>37.0</td>\n",
       "      <td>886</td>\n",
       "      <td>1327 Pod's ESB</td>\n",
       "      <td>Extra Special / Strong Bitter (ESB)</td>\n",
       "      <td>380</td>\n",
       "      <td>12.0</td>\n",
       "    </tr>\n",
       "  </tbody>\n",
       "</table>\n",
       "</div>"
      ],
      "text/plain": [
       "       abv   ibu  beer_id                             beer_name  \\\n",
       "26   0.049  17.0      801  Hell or High Watermelon Wheat (2009)   \n",
       "69   0.080  68.0     2686                        Citra Ass Down   \n",
       "81   0.050  20.0     2674                        The Brown Note   \n",
       "109  0.057  13.0     1221            Barney Flats Oatmeal Stout   \n",
       "304  0.056  37.0      886                        1327 Pod's ESB   \n",
       "\n",
       "                                   style  brewery_id  ounces  \n",
       "26                Fruit / Vegetable Beer         368    12.0  \n",
       "69        American Double / Imperial IPA           1    16.0  \n",
       "81                     English Brown Ale           1    16.0  \n",
       "109                        Oatmeal Stout         171    12.0  \n",
       "304  Extra Special / Strong Bitter (ESB)         380    12.0  "
      ]
     },
     "execution_count": 21,
     "metadata": {},
     "output_type": "execute_result"
    },
    {
     "data": {
      "text/plain": [
       "'Citra Ass Down'"
      ]
     },
     "execution_count": 21,
     "metadata": {},
     "output_type": "execute_result"
    }
   ],
   "source": [
    "# review duplicates \n",
    "duplicates = beers_df[beers_df.duplicated(subset='beer_name')]\n",
    "duplicates.head()\n",
    "\n",
    "duplicate_check = duplicates['beer_name'].iloc[1]\n",
    "duplicate_check"
   ]
  },
  {
   "cell_type": "code",
   "execution_count": 22,
   "id": "international-radius",
   "metadata": {
    "execution": {
     "iopub.execute_input": "2021-03-24T01:51:26.245274Z",
     "iopub.status.busy": "2021-03-24T01:51:26.244270Z",
     "iopub.status.idle": "2021-03-24T01:51:26.288528Z",
     "shell.execute_reply": "2021-03-24T01:51:26.287531Z",
     "shell.execute_reply.started": "2021-03-24T01:51:26.245274Z"
    }
   },
   "outputs": [
    {
     "data": {
      "text/html": [
       "<div>\n",
       "<style scoped>\n",
       "    .dataframe tbody tr th:only-of-type {\n",
       "        vertical-align: middle;\n",
       "    }\n",
       "\n",
       "    .dataframe tbody tr th {\n",
       "        vertical-align: top;\n",
       "    }\n",
       "\n",
       "    .dataframe thead th {\n",
       "        text-align: right;\n",
       "    }\n",
       "</style>\n",
       "<table border=\"1\" class=\"dataframe\">\n",
       "  <thead>\n",
       "    <tr style=\"text-align: right;\">\n",
       "      <th></th>\n",
       "      <th>abv</th>\n",
       "      <th>ibu</th>\n",
       "      <th>beer_id</th>\n",
       "      <th>beer_name</th>\n",
       "      <th>style</th>\n",
       "      <th>brewery_id</th>\n",
       "      <th>ounces</th>\n",
       "    </tr>\n",
       "  </thead>\n",
       "  <tbody>\n",
       "    <tr>\n",
       "      <th>67</th>\n",
       "      <td>0.082</td>\n",
       "      <td>68.0</td>\n",
       "      <td>2540</td>\n",
       "      <td>Citra Ass Down</td>\n",
       "      <td>American IPA</td>\n",
       "      <td>62</td>\n",
       "      <td>16.0</td>\n",
       "    </tr>\n",
       "    <tr>\n",
       "      <th>69</th>\n",
       "      <td>0.080</td>\n",
       "      <td>68.0</td>\n",
       "      <td>2686</td>\n",
       "      <td>Citra Ass Down</td>\n",
       "      <td>American Double / Imperial IPA</td>\n",
       "      <td>1</td>\n",
       "      <td>16.0</td>\n",
       "    </tr>\n",
       "  </tbody>\n",
       "</table>\n",
       "</div>"
      ],
      "text/plain": [
       "      abv   ibu  beer_id       beer_name                           style  \\\n",
       "67  0.082  68.0     2540  Citra Ass Down                    American IPA   \n",
       "69  0.080  68.0     2686  Citra Ass Down  American Double / Imperial IPA   \n",
       "\n",
       "    brewery_id  ounces  \n",
       "67          62    16.0  \n",
       "69           1    16.0  "
      ]
     },
     "execution_count": 22,
     "metadata": {},
     "output_type": "execute_result"
    }
   ],
   "source": [
    "#double checking for duplicates \n",
    "beers_df[beers_df['beer_name'] == duplicate_check]"
   ]
  },
  {
   "cell_type": "code",
   "execution_count": 23,
   "id": "victorian-devil",
   "metadata": {
    "execution": {
     "iopub.execute_input": "2021-03-24T01:51:42.558484Z",
     "iopub.status.busy": "2021-03-24T01:51:42.558484Z",
     "iopub.status.idle": "2021-03-24T01:51:42.565951Z",
     "shell.execute_reply": "2021-03-24T01:51:42.564963Z",
     "shell.execute_reply.started": "2021-03-24T01:51:42.558484Z"
    }
   },
   "outputs": [],
   "source": [
    "#drop duplicates \n",
    "beers_df.drop_duplicates(subset='beer_name',keep='first',inplace=True)"
   ]
  },
  {
   "cell_type": "code",
   "execution_count": 24,
   "id": "metric-ethernet",
   "metadata": {
    "execution": {
     "iopub.execute_input": "2021-03-24T01:51:43.688188Z",
     "iopub.status.busy": "2021-03-24T01:51:43.688188Z",
     "iopub.status.idle": "2021-03-24T01:51:43.710517Z",
     "shell.execute_reply": "2021-03-24T01:51:43.708944Z",
     "shell.execute_reply.started": "2021-03-24T01:51:43.688188Z"
    }
   },
   "outputs": [
    {
     "name": "stdout",
     "output_type": "stream",
     "text": [
      "<class 'pandas.core.frame.DataFrame'>\n",
      "Int64Index: 1326 entries, 14 to 2408\n",
      "Data columns (total 7 columns):\n",
      " #   Column      Non-Null Count  Dtype  \n",
      "---  ------      --------------  -----  \n",
      " 0   abv         1326 non-null   float64\n",
      " 1   ibu         1326 non-null   float64\n",
      " 2   beer_id     1326 non-null   int64  \n",
      " 3   beer_name   1326 non-null   object \n",
      " 4   style       1326 non-null   object \n",
      " 5   brewery_id  1326 non-null   int64  \n",
      " 6   ounces      1326 non-null   float64\n",
      "dtypes: float64(3), int64(2), object(2)\n",
      "memory usage: 82.9+ KB\n"
     ]
    }
   ],
   "source": [
    "beers_df.info()"
   ]
  },
  {
   "cell_type": "code",
   "execution_count": 38,
   "id": "united-reputation",
   "metadata": {
    "execution": {
     "iopub.execute_input": "2021-03-24T18:01:02.788319Z",
     "iopub.status.busy": "2021-03-24T18:01:02.787357Z",
     "iopub.status.idle": "2021-03-24T18:01:02.809459Z",
     "shell.execute_reply": "2021-03-24T18:01:02.809459Z",
     "shell.execute_reply.started": "2021-03-24T18:01:02.787357Z"
    }
   },
   "outputs": [],
   "source": [
    "#save cleaned and transformed data \n",
    "beers_df.to_csv('C:/Users/Donne/OneDrive/UT_Data_Analytics/Analysis Projects/Mod20 The End of The beginnig/beer_cleaned.csv',index=False)\n",
    "brewerys_df.to_csv('C:/Users/Donne/OneDrive/UT_Data_Analytics/Analysis Projects/Mod20 The End of The beginnig/brewery_cleaned.csv', index=False)"
   ]
  },
  {
   "cell_type": "code",
   "execution_count": null,
   "id": "boolean-latitude",
   "metadata": {},
   "outputs": [],
   "source": []
  }
 ],
 "metadata": {
  "kernelspec": {
   "display_name": "PythonData",
   "language": "python",
   "name": "pythondata"
  },
  "language_info": {
   "codemirror_mode": {
    "name": "ipython",
    "version": 3
   },
   "file_extension": ".py",
   "mimetype": "text/x-python",
   "name": "python",
   "nbconvert_exporter": "python",
   "pygments_lexer": "ipython3",
   "version": "3.7.9"
  }
 },
 "nbformat": 4,
 "nbformat_minor": 5
}
