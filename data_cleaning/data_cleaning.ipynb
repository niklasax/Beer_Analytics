{
 "cells": [
  {
   "cell_type": "code",
   "execution_count": 22,
   "id": "atmospheric-understanding",
   "metadata": {
    "execution": {
     "iopub.execute_input": "2021-03-26T21:26:56.373993Z",
     "iopub.status.busy": "2021-03-26T21:26:56.372995Z",
     "iopub.status.idle": "2021-03-26T21:26:56.382495Z",
     "shell.execute_reply": "2021-03-26T21:26:56.379979Z",
     "shell.execute_reply.started": "2021-03-26T21:26:56.373993Z"
    }
   },
   "outputs": [],
   "source": [
    "#import dependecies \n",
    "import pandas as pd"
   ]
  },
  {
   "cell_type": "code",
   "execution_count": 23,
   "id": "endless-chicken",
   "metadata": {
    "execution": {
     "iopub.execute_input": "2021-03-26T21:26:56.400370Z",
     "iopub.status.busy": "2021-03-26T21:26:56.400370Z",
     "iopub.status.idle": "2021-03-26T21:26:57.126648Z",
     "shell.execute_reply": "2021-03-26T21:26:57.125416Z",
     "shell.execute_reply.started": "2021-03-26T21:26:56.400370Z"
    }
   },
   "outputs": [
    {
     "data": {
      "text/html": [
       "<div>\n",
       "<style scoped>\n",
       "    .dataframe tbody tr th:only-of-type {\n",
       "        vertical-align: middle;\n",
       "    }\n",
       "\n",
       "    .dataframe tbody tr th {\n",
       "        vertical-align: top;\n",
       "    }\n",
       "\n",
       "    .dataframe thead th {\n",
       "        text-align: right;\n",
       "    }\n",
       "</style>\n",
       "<table border=\"1\" class=\"dataframe\">\n",
       "  <thead>\n",
       "    <tr style=\"text-align: right;\">\n",
       "      <th></th>\n",
       "      <th>Unnamed: 0</th>\n",
       "      <th>abv</th>\n",
       "      <th>ibu</th>\n",
       "      <th>id</th>\n",
       "      <th>name</th>\n",
       "      <th>style</th>\n",
       "      <th>brewery_id</th>\n",
       "      <th>ounces</th>\n",
       "    </tr>\n",
       "  </thead>\n",
       "  <tbody>\n",
       "    <tr>\n",
       "      <th>0</th>\n",
       "      <td>0</td>\n",
       "      <td>0.050</td>\n",
       "      <td>NaN</td>\n",
       "      <td>1436</td>\n",
       "      <td>Pub Beer</td>\n",
       "      <td>American Pale Lager</td>\n",
       "      <td>408</td>\n",
       "      <td>12.0</td>\n",
       "    </tr>\n",
       "    <tr>\n",
       "      <th>1</th>\n",
       "      <td>1</td>\n",
       "      <td>0.066</td>\n",
       "      <td>NaN</td>\n",
       "      <td>2265</td>\n",
       "      <td>Devil's Cup</td>\n",
       "      <td>American Pale Ale (APA)</td>\n",
       "      <td>177</td>\n",
       "      <td>12.0</td>\n",
       "    </tr>\n",
       "    <tr>\n",
       "      <th>2</th>\n",
       "      <td>2</td>\n",
       "      <td>0.071</td>\n",
       "      <td>NaN</td>\n",
       "      <td>2264</td>\n",
       "      <td>Rise of the Phoenix</td>\n",
       "      <td>American IPA</td>\n",
       "      <td>177</td>\n",
       "      <td>12.0</td>\n",
       "    </tr>\n",
       "    <tr>\n",
       "      <th>3</th>\n",
       "      <td>3</td>\n",
       "      <td>0.090</td>\n",
       "      <td>NaN</td>\n",
       "      <td>2263</td>\n",
       "      <td>Sinister</td>\n",
       "      <td>American Double / Imperial IPA</td>\n",
       "      <td>177</td>\n",
       "      <td>12.0</td>\n",
       "    </tr>\n",
       "    <tr>\n",
       "      <th>4</th>\n",
       "      <td>4</td>\n",
       "      <td>0.075</td>\n",
       "      <td>NaN</td>\n",
       "      <td>2262</td>\n",
       "      <td>Sex and Candy</td>\n",
       "      <td>American IPA</td>\n",
       "      <td>177</td>\n",
       "      <td>12.0</td>\n",
       "    </tr>\n",
       "  </tbody>\n",
       "</table>\n",
       "</div>"
      ],
      "text/plain": [
       "   Unnamed: 0    abv  ibu    id                 name  \\\n",
       "0           0  0.050  NaN  1436             Pub Beer   \n",
       "1           1  0.066  NaN  2265          Devil's Cup   \n",
       "2           2  0.071  NaN  2264  Rise of the Phoenix   \n",
       "3           3  0.090  NaN  2263             Sinister   \n",
       "4           4  0.075  NaN  2262        Sex and Candy   \n",
       "\n",
       "                            style  brewery_id  ounces  \n",
       "0             American Pale Lager         408    12.0  \n",
       "1         American Pale Ale (APA)         177    12.0  \n",
       "2                    American IPA         177    12.0  \n",
       "3  American Double / Imperial IPA         177    12.0  \n",
       "4                    American IPA         177    12.0  "
      ]
     },
     "execution_count": 23,
     "metadata": {},
     "output_type": "execute_result"
    },
    {
     "data": {
      "text/html": [
       "<div>\n",
       "<style scoped>\n",
       "    .dataframe tbody tr th:only-of-type {\n",
       "        vertical-align: middle;\n",
       "    }\n",
       "\n",
       "    .dataframe tbody tr th {\n",
       "        vertical-align: top;\n",
       "    }\n",
       "\n",
       "    .dataframe thead th {\n",
       "        text-align: right;\n",
       "    }\n",
       "</style>\n",
       "<table border=\"1\" class=\"dataframe\">\n",
       "  <thead>\n",
       "    <tr style=\"text-align: right;\">\n",
       "      <th></th>\n",
       "      <th>Unnamed: 0</th>\n",
       "      <th>name</th>\n",
       "      <th>city</th>\n",
       "      <th>state</th>\n",
       "    </tr>\n",
       "  </thead>\n",
       "  <tbody>\n",
       "    <tr>\n",
       "      <th>0</th>\n",
       "      <td>0</td>\n",
       "      <td>NorthGate Brewing</td>\n",
       "      <td>Minneapolis</td>\n",
       "      <td>MN</td>\n",
       "    </tr>\n",
       "    <tr>\n",
       "      <th>1</th>\n",
       "      <td>1</td>\n",
       "      <td>Against the Grain Brewery</td>\n",
       "      <td>Louisville</td>\n",
       "      <td>KY</td>\n",
       "    </tr>\n",
       "    <tr>\n",
       "      <th>2</th>\n",
       "      <td>2</td>\n",
       "      <td>Jack's Abby Craft Lagers</td>\n",
       "      <td>Framingham</td>\n",
       "      <td>MA</td>\n",
       "    </tr>\n",
       "    <tr>\n",
       "      <th>3</th>\n",
       "      <td>3</td>\n",
       "      <td>Mike Hess Brewing Company</td>\n",
       "      <td>San Diego</td>\n",
       "      <td>CA</td>\n",
       "    </tr>\n",
       "    <tr>\n",
       "      <th>4</th>\n",
       "      <td>4</td>\n",
       "      <td>Fort Point Beer Company</td>\n",
       "      <td>San Francisco</td>\n",
       "      <td>CA</td>\n",
       "    </tr>\n",
       "  </tbody>\n",
       "</table>\n",
       "</div>"
      ],
      "text/plain": [
       "   Unnamed: 0                       name           city state\n",
       "0           0         NorthGate Brewing     Minneapolis    MN\n",
       "1           1  Against the Grain Brewery     Louisville    KY\n",
       "2           2   Jack's Abby Craft Lagers     Framingham    MA\n",
       "3           3  Mike Hess Brewing Company      San Diego    CA\n",
       "4           4    Fort Point Beer Company  San Francisco    CA"
      ]
     },
     "execution_count": 23,
     "metadata": {},
     "output_type": "execute_result"
    }
   ],
   "source": [
    "# assign link to beer and brewery data\n",
    "beer_url_data = 'https://raw.githubusercontent.com/niklasax/Final_Project/main/CSV_Files/beers.csv'\n",
    "brewery_data_url = 'https://raw.githubusercontent.com/niklasax/Final_Project/main/CSV_Files/breweries.csv'\n",
    "\n",
    "# read in data into dataframes \n",
    "beers_df = pd.read_csv(beer_url_data)\n",
    "brewerys_df = pd.read_csv(brewery_data_url)\n",
    "\n",
    "#review dataframe structures \n",
    "beers_df.head()\n",
    "brewerys_df.head()"
   ]
  },
  {
   "cell_type": "markdown",
   "id": "historic-season",
   "metadata": {},
   "source": [
    "## Cleaning "
   ]
  },
  {
   "cell_type": "code",
   "execution_count": 24,
   "id": "rough-contact",
   "metadata": {
    "execution": {
     "iopub.execute_input": "2021-03-26T21:26:57.130634Z",
     "iopub.status.busy": "2021-03-26T21:26:57.130169Z",
     "iopub.status.idle": "2021-03-26T21:26:57.139174Z",
     "shell.execute_reply": "2021-03-26T21:26:57.137975Z",
     "shell.execute_reply.started": "2021-03-26T21:26:57.130634Z"
    }
   },
   "outputs": [],
   "source": [
    "#drop column \n",
    "beers_df.drop('Unnamed: 0', axis=1, inplace=True)"
   ]
  },
  {
   "cell_type": "code",
   "execution_count": 25,
   "id": "horizontal-philosophy",
   "metadata": {
    "execution": {
     "iopub.execute_input": "2021-03-26T21:26:57.141730Z",
     "iopub.status.busy": "2021-03-26T21:26:57.140738Z",
     "iopub.status.idle": "2021-03-26T21:26:57.198883Z",
     "shell.execute_reply": "2021-03-26T21:26:57.197886Z",
     "shell.execute_reply.started": "2021-03-26T21:26:57.141730Z"
    }
   },
   "outputs": [
    {
     "data": {
      "text/html": [
       "<div>\n",
       "<style scoped>\n",
       "    .dataframe tbody tr th:only-of-type {\n",
       "        vertical-align: middle;\n",
       "    }\n",
       "\n",
       "    .dataframe tbody tr th {\n",
       "        vertical-align: top;\n",
       "    }\n",
       "\n",
       "    .dataframe thead th {\n",
       "        text-align: right;\n",
       "    }\n",
       "</style>\n",
       "<table border=\"1\" class=\"dataframe\">\n",
       "  <thead>\n",
       "    <tr style=\"text-align: right;\">\n",
       "      <th></th>\n",
       "      <th>abv</th>\n",
       "      <th>ibu</th>\n",
       "      <th>id</th>\n",
       "      <th>name</th>\n",
       "      <th>style</th>\n",
       "      <th>brewery_id</th>\n",
       "      <th>ounces</th>\n",
       "    </tr>\n",
       "  </thead>\n",
       "  <tbody>\n",
       "    <tr>\n",
       "      <th>0</th>\n",
       "      <td>0.050</td>\n",
       "      <td>NaN</td>\n",
       "      <td>1436</td>\n",
       "      <td>Pub Beer</td>\n",
       "      <td>American Pale Lager</td>\n",
       "      <td>408</td>\n",
       "      <td>12.0</td>\n",
       "    </tr>\n",
       "    <tr>\n",
       "      <th>1</th>\n",
       "      <td>0.066</td>\n",
       "      <td>NaN</td>\n",
       "      <td>2265</td>\n",
       "      <td>Devil's Cup</td>\n",
       "      <td>American Pale Ale (APA)</td>\n",
       "      <td>177</td>\n",
       "      <td>12.0</td>\n",
       "    </tr>\n",
       "    <tr>\n",
       "      <th>2</th>\n",
       "      <td>0.071</td>\n",
       "      <td>NaN</td>\n",
       "      <td>2264</td>\n",
       "      <td>Rise of the Phoenix</td>\n",
       "      <td>American IPA</td>\n",
       "      <td>177</td>\n",
       "      <td>12.0</td>\n",
       "    </tr>\n",
       "    <tr>\n",
       "      <th>3</th>\n",
       "      <td>0.090</td>\n",
       "      <td>NaN</td>\n",
       "      <td>2263</td>\n",
       "      <td>Sinister</td>\n",
       "      <td>American Double / Imperial IPA</td>\n",
       "      <td>177</td>\n",
       "      <td>12.0</td>\n",
       "    </tr>\n",
       "    <tr>\n",
       "      <th>4</th>\n",
       "      <td>0.075</td>\n",
       "      <td>NaN</td>\n",
       "      <td>2262</td>\n",
       "      <td>Sex and Candy</td>\n",
       "      <td>American IPA</td>\n",
       "      <td>177</td>\n",
       "      <td>12.0</td>\n",
       "    </tr>\n",
       "  </tbody>\n",
       "</table>\n",
       "</div>"
      ],
      "text/plain": [
       "     abv  ibu    id                 name                           style  \\\n",
       "0  0.050  NaN  1436             Pub Beer             American Pale Lager   \n",
       "1  0.066  NaN  2265          Devil's Cup         American Pale Ale (APA)   \n",
       "2  0.071  NaN  2264  Rise of the Phoenix                    American IPA   \n",
       "3  0.090  NaN  2263             Sinister  American Double / Imperial IPA   \n",
       "4  0.075  NaN  2262        Sex and Candy                    American IPA   \n",
       "\n",
       "   brewery_id  ounces  \n",
       "0         408    12.0  \n",
       "1         177    12.0  \n",
       "2         177    12.0  \n",
       "3         177    12.0  \n",
       "4         177    12.0  "
      ]
     },
     "execution_count": 25,
     "metadata": {},
     "output_type": "execute_result"
    }
   ],
   "source": [
    "beers_df.head()"
   ]
  },
  {
   "cell_type": "code",
   "execution_count": 26,
   "id": "moral-assets",
   "metadata": {
    "execution": {
     "iopub.execute_input": "2021-03-26T21:26:57.202888Z",
     "iopub.status.busy": "2021-03-26T21:26:57.200880Z",
     "iopub.status.idle": "2021-03-26T21:26:57.230797Z",
     "shell.execute_reply": "2021-03-26T21:26:57.229802Z",
     "shell.execute_reply.started": "2021-03-26T21:26:57.202888Z"
    }
   },
   "outputs": [
    {
     "data": {
      "text/plain": [
       "'Unnamed: 0'"
      ]
     },
     "execution_count": 26,
     "metadata": {},
     "output_type": "execute_result"
    },
    {
     "data": {
      "text/html": [
       "<div>\n",
       "<style scoped>\n",
       "    .dataframe tbody tr th:only-of-type {\n",
       "        vertical-align: middle;\n",
       "    }\n",
       "\n",
       "    .dataframe tbody tr th {\n",
       "        vertical-align: top;\n",
       "    }\n",
       "\n",
       "    .dataframe thead th {\n",
       "        text-align: right;\n",
       "    }\n",
       "</style>\n",
       "<table border=\"1\" class=\"dataframe\">\n",
       "  <thead>\n",
       "    <tr style=\"text-align: right;\">\n",
       "      <th></th>\n",
       "      <th>brewery_id</th>\n",
       "      <th>name</th>\n",
       "      <th>city</th>\n",
       "      <th>state</th>\n",
       "    </tr>\n",
       "  </thead>\n",
       "  <tbody>\n",
       "    <tr>\n",
       "      <th>0</th>\n",
       "      <td>0</td>\n",
       "      <td>NorthGate Brewing</td>\n",
       "      <td>Minneapolis</td>\n",
       "      <td>MN</td>\n",
       "    </tr>\n",
       "    <tr>\n",
       "      <th>1</th>\n",
       "      <td>1</td>\n",
       "      <td>Against the Grain Brewery</td>\n",
       "      <td>Louisville</td>\n",
       "      <td>KY</td>\n",
       "    </tr>\n",
       "    <tr>\n",
       "      <th>2</th>\n",
       "      <td>2</td>\n",
       "      <td>Jack's Abby Craft Lagers</td>\n",
       "      <td>Framingham</td>\n",
       "      <td>MA</td>\n",
       "    </tr>\n",
       "    <tr>\n",
       "      <th>3</th>\n",
       "      <td>3</td>\n",
       "      <td>Mike Hess Brewing Company</td>\n",
       "      <td>San Diego</td>\n",
       "      <td>CA</td>\n",
       "    </tr>\n",
       "    <tr>\n",
       "      <th>4</th>\n",
       "      <td>4</td>\n",
       "      <td>Fort Point Beer Company</td>\n",
       "      <td>San Francisco</td>\n",
       "      <td>CA</td>\n",
       "    </tr>\n",
       "  </tbody>\n",
       "</table>\n",
       "</div>"
      ],
      "text/plain": [
       "   brewery_id                       name           city state\n",
       "0           0         NorthGate Brewing     Minneapolis    MN\n",
       "1           1  Against the Grain Brewery     Louisville    KY\n",
       "2           2   Jack's Abby Craft Lagers     Framingham    MA\n",
       "3           3  Mike Hess Brewing Company      San Diego    CA\n",
       "4           4    Fort Point Beer Company  San Francisco    CA"
      ]
     },
     "execution_count": 26,
     "metadata": {},
     "output_type": "execute_result"
    }
   ],
   "source": [
    "#renme column meant to be the id \n",
    "brewerys_df.columns[0]\n",
    "brewerys_df.rename({'Unnamed: 0':'brewery_id'},axis=1, inplace=True)\n",
    "brewerys_df.head()"
   ]
  },
  {
   "cell_type": "code",
   "execution_count": 27,
   "id": "helpful-pollution",
   "metadata": {
    "execution": {
     "iopub.execute_input": "2021-03-26T21:26:57.232792Z",
     "iopub.status.busy": "2021-03-26T21:26:57.231795Z",
     "iopub.status.idle": "2021-03-26T21:26:57.249748Z",
     "shell.execute_reply": "2021-03-26T21:26:57.248755Z",
     "shell.execute_reply.started": "2021-03-26T21:26:57.232792Z"
    }
   },
   "outputs": [
    {
     "data": {
      "text/plain": [
       "abv             62\n",
       "ibu           1005\n",
       "id               0\n",
       "name             0\n",
       "style            5\n",
       "brewery_id       0\n",
       "ounces           0\n",
       "dtype: int64"
      ]
     },
     "execution_count": 27,
     "metadata": {},
     "output_type": "execute_result"
    },
    {
     "data": {
      "text/plain": [
       "brewery_id    0\n",
       "name          0\n",
       "city          0\n",
       "state         0\n",
       "dtype: int64"
      ]
     },
     "execution_count": 27,
     "metadata": {},
     "output_type": "execute_result"
    }
   ],
   "source": [
    "#check for null values \n",
    "beers_df.isnull().sum()\n",
    "brewerys_df.isnull().sum()"
   ]
  },
  {
   "cell_type": "code",
   "execution_count": 28,
   "id": "caroline-hampshire",
   "metadata": {
    "execution": {
     "iopub.execute_input": "2021-03-26T21:26:57.251031Z",
     "iopub.status.busy": "2021-03-26T21:26:57.251031Z",
     "iopub.status.idle": "2021-03-26T21:26:57.283656Z",
     "shell.execute_reply": "2021-03-26T21:26:57.282659Z",
     "shell.execute_reply.started": "2021-03-26T21:26:57.251031Z"
    }
   },
   "outputs": [
    {
     "data": {
      "text/html": [
       "<div>\n",
       "<style scoped>\n",
       "    .dataframe tbody tr th:only-of-type {\n",
       "        vertical-align: middle;\n",
       "    }\n",
       "\n",
       "    .dataframe tbody tr th {\n",
       "        vertical-align: top;\n",
       "    }\n",
       "\n",
       "    .dataframe thead th {\n",
       "        text-align: right;\n",
       "    }\n",
       "</style>\n",
       "<table border=\"1\" class=\"dataframe\">\n",
       "  <thead>\n",
       "    <tr style=\"text-align: right;\">\n",
       "      <th></th>\n",
       "      <th>abv</th>\n",
       "      <th>ibu</th>\n",
       "      <th>id</th>\n",
       "      <th>name</th>\n",
       "      <th>style</th>\n",
       "      <th>brewery_id</th>\n",
       "      <th>ounces</th>\n",
       "    </tr>\n",
       "  </thead>\n",
       "  <tbody>\n",
       "    <tr>\n",
       "      <th>294</th>\n",
       "      <td>NaN</td>\n",
       "      <td>NaN</td>\n",
       "      <td>1541</td>\n",
       "      <td>Double Play Pilsner</td>\n",
       "      <td>American Pilsner</td>\n",
       "      <td>380</td>\n",
       "      <td>12.0</td>\n",
       "    </tr>\n",
       "    <tr>\n",
       "      <th>299</th>\n",
       "      <td>NaN</td>\n",
       "      <td>NaN</td>\n",
       "      <td>1025</td>\n",
       "      <td>N Street Drive-In 50th Anniversary IPA</td>\n",
       "      <td>American Double / Imperial IPA</td>\n",
       "      <td>380</td>\n",
       "      <td>12.0</td>\n",
       "    </tr>\n",
       "    <tr>\n",
       "      <th>315</th>\n",
       "      <td>NaN</td>\n",
       "      <td>NaN</td>\n",
       "      <td>2490</td>\n",
       "      <td>Professor Black</td>\n",
       "      <td>American Stout</td>\n",
       "      <td>77</td>\n",
       "      <td>12.0</td>\n",
       "    </tr>\n",
       "    <tr>\n",
       "      <th>316</th>\n",
       "      <td>NaN</td>\n",
       "      <td>NaN</td>\n",
       "      <td>2489</td>\n",
       "      <td>Little Boss</td>\n",
       "      <td>American Pale Wheat Ale</td>\n",
       "      <td>77</td>\n",
       "      <td>12.0</td>\n",
       "    </tr>\n",
       "    <tr>\n",
       "      <th>317</th>\n",
       "      <td>NaN</td>\n",
       "      <td>NaN</td>\n",
       "      <td>2488</td>\n",
       "      <td>Van Dayum!</td>\n",
       "      <td>American Amber / Red Ale</td>\n",
       "      <td>77</td>\n",
       "      <td>12.0</td>\n",
       "    </tr>\n",
       "    <tr>\n",
       "      <th>...</th>\n",
       "      <td>...</td>\n",
       "      <td>...</td>\n",
       "      <td>...</td>\n",
       "      <td>...</td>\n",
       "      <td>...</td>\n",
       "      <td>...</td>\n",
       "      <td>...</td>\n",
       "    </tr>\n",
       "    <tr>\n",
       "      <th>2186</th>\n",
       "      <td>NaN</td>\n",
       "      <td>NaN</td>\n",
       "      <td>121</td>\n",
       "      <td>Cornstalker Dark Wheat</td>\n",
       "      <td>American Dark Wheat Ale</td>\n",
       "      <td>282</td>\n",
       "      <td>12.0</td>\n",
       "    </tr>\n",
       "    <tr>\n",
       "      <th>2337</th>\n",
       "      <td>NaN</td>\n",
       "      <td>NaN</td>\n",
       "      <td>652</td>\n",
       "      <td>West Sixth IPA</td>\n",
       "      <td>American IPA</td>\n",
       "      <td>100</td>\n",
       "      <td>12.0</td>\n",
       "    </tr>\n",
       "    <tr>\n",
       "      <th>2345</th>\n",
       "      <td>NaN</td>\n",
       "      <td>NaN</td>\n",
       "      <td>2364</td>\n",
       "      <td>Royal Lager</td>\n",
       "      <td>American Pale Lager</td>\n",
       "      <td>132</td>\n",
       "      <td>16.0</td>\n",
       "    </tr>\n",
       "    <tr>\n",
       "      <th>2347</th>\n",
       "      <td>NaN</td>\n",
       "      <td>NaN</td>\n",
       "      <td>2344</td>\n",
       "      <td>O’Malley’s Stout</td>\n",
       "      <td>English Stout</td>\n",
       "      <td>132</td>\n",
       "      <td>12.0</td>\n",
       "    </tr>\n",
       "    <tr>\n",
       "      <th>2349</th>\n",
       "      <td>NaN</td>\n",
       "      <td>NaN</td>\n",
       "      <td>2342</td>\n",
       "      <td>O’Malley’s Irish Style Cream Ale</td>\n",
       "      <td>Cream Ale</td>\n",
       "      <td>132</td>\n",
       "      <td>12.0</td>\n",
       "    </tr>\n",
       "  </tbody>\n",
       "</table>\n",
       "<p>62 rows × 7 columns</p>\n",
       "</div>"
      ],
      "text/plain": [
       "      abv  ibu    id                                    name  \\\n",
       "294   NaN  NaN  1541                     Double Play Pilsner   \n",
       "299   NaN  NaN  1025  N Street Drive-In 50th Anniversary IPA   \n",
       "315   NaN  NaN  2490                         Professor Black   \n",
       "316   NaN  NaN  2489                             Little Boss   \n",
       "317   NaN  NaN  2488                              Van Dayum!   \n",
       "...   ...  ...   ...                                     ...   \n",
       "2186  NaN  NaN   121                  Cornstalker Dark Wheat   \n",
       "2337  NaN  NaN   652                          West Sixth IPA   \n",
       "2345  NaN  NaN  2364                             Royal Lager   \n",
       "2347  NaN  NaN  2344                        O’Malley’s Stout   \n",
       "2349  NaN  NaN  2342        O’Malley’s Irish Style Cream Ale   \n",
       "\n",
       "                               style  brewery_id  ounces  \n",
       "294                 American Pilsner         380    12.0  \n",
       "299   American Double / Imperial IPA         380    12.0  \n",
       "315                   American Stout          77    12.0  \n",
       "316          American Pale Wheat Ale          77    12.0  \n",
       "317         American Amber / Red Ale          77    12.0  \n",
       "...                              ...         ...     ...  \n",
       "2186         American Dark Wheat Ale         282    12.0  \n",
       "2337                    American IPA         100    12.0  \n",
       "2345             American Pale Lager         132    16.0  \n",
       "2347                   English Stout         132    12.0  \n",
       "2349                       Cream Ale         132    12.0  \n",
       "\n",
       "[62 rows x 7 columns]"
      ]
     },
     "execution_count": 28,
     "metadata": {},
     "output_type": "execute_result"
    }
   ],
   "source": [
    "#dynamically review drop cases \n",
    "beers_df[(beers_df['abv'].isnull()) & (beers_df['ibu'].isnull())]"
   ]
  },
  {
   "cell_type": "code",
   "execution_count": 29,
   "id": "integrated-tract",
   "metadata": {
    "execution": {
     "iopub.execute_input": "2021-03-26T21:26:57.284654Z",
     "iopub.status.busy": "2021-03-26T21:26:57.284654Z",
     "iopub.status.idle": "2021-03-26T21:26:57.293630Z",
     "shell.execute_reply": "2021-03-26T21:26:57.292633Z",
     "shell.execute_reply.started": "2021-03-26T21:26:57.284654Z"
    }
   },
   "outputs": [
    {
     "data": {
      "text/plain": [
       "1005"
      ]
     },
     "execution_count": 29,
     "metadata": {},
     "output_type": "execute_result"
    }
   ],
   "source": [
    "#create drop list   \n",
    "drop_list_1 = beers_df[beers_df.ibu.isnull()].index.to_list()\n",
    "len(drop_list_1)"
   ]
  },
  {
   "cell_type": "code",
   "execution_count": 30,
   "id": "published-sandwich",
   "metadata": {
    "execution": {
     "iopub.execute_input": "2021-03-26T21:26:57.294627Z",
     "iopub.status.busy": "2021-03-26T21:26:57.294627Z",
     "iopub.status.idle": "2021-03-26T21:26:57.317565Z",
     "shell.execute_reply": "2021-03-26T21:26:57.317103Z",
     "shell.execute_reply.started": "2021-03-26T21:26:57.294627Z"
    }
   },
   "outputs": [
    {
     "data": {
      "text/plain": [
       "abv           0\n",
       "ibu           0\n",
       "id            0\n",
       "name          0\n",
       "style         2\n",
       "brewery_id    0\n",
       "ounces        0\n",
       "dtype: int64"
      ]
     },
     "execution_count": 30,
     "metadata": {},
     "output_type": "execute_result"
    }
   ],
   "source": [
    "#drop missing values and review \n",
    "beers_df.drop(drop_list_1,axis=0, inplace=True)\n",
    "beers_df.isnull().sum()"
   ]
  },
  {
   "cell_type": "code",
   "execution_count": 31,
   "id": "agreed-exhibition",
   "metadata": {
    "execution": {
     "iopub.execute_input": "2021-03-26T21:26:57.321591Z",
     "iopub.status.busy": "2021-03-26T21:26:57.320557Z",
     "iopub.status.idle": "2021-03-26T21:26:57.337512Z",
     "shell.execute_reply": "2021-03-26T21:26:57.336516Z",
     "shell.execute_reply.started": "2021-03-26T21:26:57.321591Z"
    }
   },
   "outputs": [
    {
     "data": {
      "text/plain": [
       "2"
      ]
     },
     "execution_count": 31,
     "metadata": {},
     "output_type": "execute_result"
    }
   ],
   "source": [
    "# create drop list \n",
    "drop_list_2 = beers_df[beers_df['style'].isnull()].index\n",
    "len(drop_list_2)"
   ]
  },
  {
   "cell_type": "code",
   "execution_count": 32,
   "id": "surprising-aberdeen",
   "metadata": {
    "execution": {
     "iopub.execute_input": "2021-03-26T21:26:57.339508Z",
     "iopub.status.busy": "2021-03-26T21:26:57.339508Z",
     "iopub.status.idle": "2021-03-26T21:26:57.364440Z",
     "shell.execute_reply": "2021-03-26T21:26:57.363443Z",
     "shell.execute_reply.started": "2021-03-26T21:26:57.339508Z"
    }
   },
   "outputs": [
    {
     "data": {
      "text/plain": [
       "abv           0\n",
       "ibu           0\n",
       "id            0\n",
       "name          0\n",
       "style         0\n",
       "brewery_id    0\n",
       "ounces        0\n",
       "dtype: int64"
      ]
     },
     "execution_count": 32,
     "metadata": {},
     "output_type": "execute_result"
    }
   ],
   "source": [
    "#drop missing values and review \n",
    "\n",
    "beers_df.drop(drop_list_2,axis=0,inplace=True)\n",
    "beers_df.isnull().sum()"
   ]
  },
  {
   "cell_type": "code",
   "execution_count": 33,
   "id": "accomplished-memory",
   "metadata": {
    "execution": {
     "iopub.execute_input": "2021-03-26T21:26:57.366436Z",
     "iopub.status.busy": "2021-03-26T21:26:57.365437Z",
     "iopub.status.idle": "2021-03-26T21:26:57.390370Z",
     "shell.execute_reply": "2021-03-26T21:26:57.389409Z",
     "shell.execute_reply.started": "2021-03-26T21:26:57.365437Z"
    }
   },
   "outputs": [
    {
     "name": "stdout",
     "output_type": "stream",
     "text": [
      "<class 'pandas.core.frame.DataFrame'>\n",
      "Int64Index: 1403 entries, 14 to 2408\n",
      "Data columns (total 7 columns):\n",
      " #   Column      Non-Null Count  Dtype  \n",
      "---  ------      --------------  -----  \n",
      " 0   abv         1403 non-null   float64\n",
      " 1   ibu         1403 non-null   float64\n",
      " 2   id          1403 non-null   int64  \n",
      " 3   name        1403 non-null   object \n",
      " 4   style       1403 non-null   object \n",
      " 5   brewery_id  1403 non-null   int64  \n",
      " 6   ounces      1403 non-null   float64\n",
      "dtypes: float64(3), int64(2), object(2)\n",
      "memory usage: 87.7+ KB\n"
     ]
    }
   ],
   "source": [
    "#review \n",
    "beers_df.info()"
   ]
  },
  {
   "cell_type": "code",
   "execution_count": 34,
   "id": "permanent-confidence",
   "metadata": {
    "execution": {
     "iopub.execute_input": "2021-03-26T21:26:57.391368Z",
     "iopub.status.busy": "2021-03-26T21:26:57.391368Z",
     "iopub.status.idle": "2021-03-26T21:26:57.411316Z",
     "shell.execute_reply": "2021-03-26T21:26:57.410319Z",
     "shell.execute_reply.started": "2021-03-26T21:26:57.391368Z"
    }
   },
   "outputs": [
    {
     "data": {
      "text/plain": [
       "90"
      ]
     },
     "execution_count": 34,
     "metadata": {},
     "output_type": "execute_result"
    },
    {
     "data": {
      "text/plain": [
       "array(['American Pale Ale (APA)', 'American Barleywine', 'Winter Warmer',\n",
       "       'Fruit / Vegetable Beer', 'American IPA', 'English Strong Ale',\n",
       "       'American Double / Imperial IPA', 'American Black Ale',\n",
       "       'Belgian Dark Ale', 'Berliner Weissbier', 'American Blonde Ale',\n",
       "       'American Pale Wheat Ale', 'Kölsch', 'English Pale Ale',\n",
       "       'American Amber / Red Lager', 'American Brown Ale',\n",
       "       'English Barleywine', 'Milk / Sweet Stout', 'German Pilsener',\n",
       "       'Pumpkin Ale', 'Belgian Pale Ale', 'American Pilsner',\n",
       "       'Saison / Farmhouse Ale', 'English Brown Ale', 'American Stout',\n",
       "       'Altbier', 'Oatmeal Stout', 'Cream Ale',\n",
       "       'American Amber / Red Ale', 'Vienna Lager', 'American Porter',\n",
       "       'American Double / Imperial Stout', 'Gose', 'Munich Helles Lager',\n",
       "       'Witbier', 'Märzen / Oktoberfest', 'Tripel', 'Rye Beer',\n",
       "       'American Pale Lager', 'Euro Dark Lager',\n",
       "       'California Common / Steam Beer', 'Schwarzbier', 'Hefeweizen',\n",
       "       'Other', 'English India Pale Ale (IPA)',\n",
       "       'Extra Special / Strong Bitter (ESB)', 'American Strong Ale',\n",
       "       'Czech Pilsener', 'Foreign / Export Stout', 'Euro Pale Lager',\n",
       "       'American White IPA', 'Irish Dry Stout', 'Scotch Ale / Wee Heavy',\n",
       "       'Radler', 'Irish Red Ale', 'Herbed / Spiced Beer',\n",
       "       'American Adjunct Lager', 'Scottish Ale', 'Smoked Beer', 'Bock',\n",
       "       'Belgian Strong Pale Ale', 'English Pale Mild Ale',\n",
       "       'Abbey Single Ale', 'Belgian IPA', 'Roggenbier',\n",
       "       'Dortmunder / Export Lager', 'American Dark Wheat Ale',\n",
       "       'English Stout', 'English Dark Mild Ale', 'Russian Imperial Stout',\n",
       "       'Keller Bier / Zwickel Bier', 'American India Pale Lager',\n",
       "       'Doppelbock', 'Munich Dunkel Lager', 'Maibock / Helles Bock',\n",
       "       'Wheat Ale', 'Light Lager', 'Dunkelweizen', 'Baltic Porter',\n",
       "       'English Bitter', 'Belgian Strong Dark Ale', 'Dubbel',\n",
       "       'Chile Beer', 'Grisette', 'Bière de Garde', 'Old Ale',\n",
       "       'Flanders Oud Bruin', 'Quadrupel (Quad)', 'American Wild Ale',\n",
       "       'American Double / Imperial Pilsner'], dtype=object)"
      ]
     },
     "execution_count": 34,
     "metadata": {},
     "output_type": "execute_result"
    }
   ],
   "source": [
    "# review style column \n",
    "beers_df['style'].nunique()\n",
    "beers_df['style'].unique()"
   ]
  },
  {
   "cell_type": "code",
   "execution_count": 35,
   "id": "deluxe-singer",
   "metadata": {
    "execution": {
     "iopub.execute_input": "2021-03-26T21:26:57.413310Z",
     "iopub.status.busy": "2021-03-26T21:26:57.412313Z",
     "iopub.status.idle": "2021-03-26T21:26:57.439240Z",
     "shell.execute_reply": "2021-03-26T21:26:57.438245Z",
     "shell.execute_reply.started": "2021-03-26T21:26:57.413310Z"
    }
   },
   "outputs": [
    {
     "data": {
      "text/html": [
       "<div>\n",
       "<style scoped>\n",
       "    .dataframe tbody tr th:only-of-type {\n",
       "        vertical-align: middle;\n",
       "    }\n",
       "\n",
       "    .dataframe tbody tr th {\n",
       "        vertical-align: top;\n",
       "    }\n",
       "\n",
       "    .dataframe thead th {\n",
       "        text-align: right;\n",
       "    }\n",
       "</style>\n",
       "<table border=\"1\" class=\"dataframe\">\n",
       "  <thead>\n",
       "    <tr style=\"text-align: right;\">\n",
       "      <th></th>\n",
       "      <th>abv</th>\n",
       "      <th>ibu</th>\n",
       "      <th>id</th>\n",
       "      <th>name</th>\n",
       "      <th>style</th>\n",
       "      <th>brewery_id</th>\n",
       "      <th>ounces</th>\n",
       "    </tr>\n",
       "  </thead>\n",
       "  <tbody>\n",
       "    <tr>\n",
       "      <th>14</th>\n",
       "      <td>0.061</td>\n",
       "      <td>60.0</td>\n",
       "      <td>1979</td>\n",
       "      <td>Bitter Bitch</td>\n",
       "      <td>American Pale Ale (APA)</td>\n",
       "      <td>177</td>\n",
       "      <td>12.0</td>\n",
       "    </tr>\n",
       "    <tr>\n",
       "      <th>21</th>\n",
       "      <td>0.099</td>\n",
       "      <td>92.0</td>\n",
       "      <td>1036</td>\n",
       "      <td>Lower De Boom</td>\n",
       "      <td>American Barleywine</td>\n",
       "      <td>368</td>\n",
       "      <td>8.4</td>\n",
       "    </tr>\n",
       "  </tbody>\n",
       "</table>\n",
       "</div>"
      ],
      "text/plain": [
       "      abv   ibu    id           name                    style  brewery_id  \\\n",
       "14  0.061  60.0  1979   Bitter Bitch  American Pale Ale (APA)         177   \n",
       "21  0.099  92.0  1036  Lower De Boom      American Barleywine         368   \n",
       "\n",
       "    ounces  \n",
       "14    12.0  \n",
       "21     8.4  "
      ]
     },
     "execution_count": 35,
     "metadata": {},
     "output_type": "execute_result"
    },
    {
     "data": {
      "text/html": [
       "<div>\n",
       "<style scoped>\n",
       "    .dataframe tbody tr th:only-of-type {\n",
       "        vertical-align: middle;\n",
       "    }\n",
       "\n",
       "    .dataframe tbody tr th {\n",
       "        vertical-align: top;\n",
       "    }\n",
       "\n",
       "    .dataframe thead th {\n",
       "        text-align: right;\n",
       "    }\n",
       "</style>\n",
       "<table border=\"1\" class=\"dataframe\">\n",
       "  <thead>\n",
       "    <tr style=\"text-align: right;\">\n",
       "      <th></th>\n",
       "      <th>brewery_id</th>\n",
       "      <th>name</th>\n",
       "      <th>city</th>\n",
       "      <th>state</th>\n",
       "    </tr>\n",
       "  </thead>\n",
       "  <tbody>\n",
       "    <tr>\n",
       "      <th>0</th>\n",
       "      <td>0</td>\n",
       "      <td>NorthGate Brewing</td>\n",
       "      <td>Minneapolis</td>\n",
       "      <td>MN</td>\n",
       "    </tr>\n",
       "    <tr>\n",
       "      <th>1</th>\n",
       "      <td>1</td>\n",
       "      <td>Against the Grain Brewery</td>\n",
       "      <td>Louisville</td>\n",
       "      <td>KY</td>\n",
       "    </tr>\n",
       "  </tbody>\n",
       "</table>\n",
       "</div>"
      ],
      "text/plain": [
       "   brewery_id                       name         city state\n",
       "0           0         NorthGate Brewing   Minneapolis    MN\n",
       "1           1  Against the Grain Brewery   Louisville    KY"
      ]
     },
     "execution_count": 35,
     "metadata": {},
     "output_type": "execute_result"
    }
   ],
   "source": [
    "#review columns \n",
    "beers_df.head(2)\n",
    "brewerys_df.head(2)"
   ]
  },
  {
   "cell_type": "code",
   "execution_count": 36,
   "id": "standard-click",
   "metadata": {
    "execution": {
     "iopub.execute_input": "2021-03-26T21:26:57.440237Z",
     "iopub.status.busy": "2021-03-26T21:26:57.440237Z",
     "iopub.status.idle": "2021-03-26T21:26:57.466168Z",
     "shell.execute_reply": "2021-03-26T21:26:57.465175Z",
     "shell.execute_reply.started": "2021-03-26T21:26:57.440237Z"
    }
   },
   "outputs": [
    {
     "data": {
      "text/html": [
       "<div>\n",
       "<style scoped>\n",
       "    .dataframe tbody tr th:only-of-type {\n",
       "        vertical-align: middle;\n",
       "    }\n",
       "\n",
       "    .dataframe tbody tr th {\n",
       "        vertical-align: top;\n",
       "    }\n",
       "\n",
       "    .dataframe thead th {\n",
       "        text-align: right;\n",
       "    }\n",
       "</style>\n",
       "<table border=\"1\" class=\"dataframe\">\n",
       "  <thead>\n",
       "    <tr style=\"text-align: right;\">\n",
       "      <th></th>\n",
       "      <th>abv</th>\n",
       "      <th>ibu</th>\n",
       "      <th>beer_id</th>\n",
       "      <th>beer_name</th>\n",
       "      <th>style</th>\n",
       "      <th>brewery_id</th>\n",
       "      <th>ounces</th>\n",
       "    </tr>\n",
       "  </thead>\n",
       "  <tbody>\n",
       "    <tr>\n",
       "      <th>14</th>\n",
       "      <td>0.061</td>\n",
       "      <td>60.0</td>\n",
       "      <td>1979</td>\n",
       "      <td>Bitter Bitch</td>\n",
       "      <td>American Pale Ale (APA)</td>\n",
       "      <td>177</td>\n",
       "      <td>12.0</td>\n",
       "    </tr>\n",
       "    <tr>\n",
       "      <th>21</th>\n",
       "      <td>0.099</td>\n",
       "      <td>92.0</td>\n",
       "      <td>1036</td>\n",
       "      <td>Lower De Boom</td>\n",
       "      <td>American Barleywine</td>\n",
       "      <td>368</td>\n",
       "      <td>8.4</td>\n",
       "    </tr>\n",
       "  </tbody>\n",
       "</table>\n",
       "</div>"
      ],
      "text/plain": [
       "      abv   ibu  beer_id      beer_name                    style  brewery_id  \\\n",
       "14  0.061  60.0     1979   Bitter Bitch  American Pale Ale (APA)         177   \n",
       "21  0.099  92.0     1036  Lower De Boom      American Barleywine         368   \n",
       "\n",
       "    ounces  \n",
       "14    12.0  \n",
       "21     8.4  "
      ]
     },
     "execution_count": 36,
     "metadata": {},
     "output_type": "execute_result"
    },
    {
     "data": {
      "text/html": [
       "<div>\n",
       "<style scoped>\n",
       "    .dataframe tbody tr th:only-of-type {\n",
       "        vertical-align: middle;\n",
       "    }\n",
       "\n",
       "    .dataframe tbody tr th {\n",
       "        vertical-align: top;\n",
       "    }\n",
       "\n",
       "    .dataframe thead th {\n",
       "        text-align: right;\n",
       "    }\n",
       "</style>\n",
       "<table border=\"1\" class=\"dataframe\">\n",
       "  <thead>\n",
       "    <tr style=\"text-align: right;\">\n",
       "      <th></th>\n",
       "      <th>brewery_id</th>\n",
       "      <th>brewery_name</th>\n",
       "      <th>city</th>\n",
       "      <th>state</th>\n",
       "    </tr>\n",
       "  </thead>\n",
       "  <tbody>\n",
       "    <tr>\n",
       "      <th>0</th>\n",
       "      <td>0</td>\n",
       "      <td>NorthGate Brewing</td>\n",
       "      <td>Minneapolis</td>\n",
       "      <td>MN</td>\n",
       "    </tr>\n",
       "    <tr>\n",
       "      <th>1</th>\n",
       "      <td>1</td>\n",
       "      <td>Against the Grain Brewery</td>\n",
       "      <td>Louisville</td>\n",
       "      <td>KY</td>\n",
       "    </tr>\n",
       "  </tbody>\n",
       "</table>\n",
       "</div>"
      ],
      "text/plain": [
       "   brewery_id               brewery_name         city state\n",
       "0           0         NorthGate Brewing   Minneapolis    MN\n",
       "1           1  Against the Grain Brewery   Louisville    KY"
      ]
     },
     "execution_count": 36,
     "metadata": {},
     "output_type": "execute_result"
    }
   ],
   "source": [
    "#rename columns \n",
    "beers_df.rename({'id':'beer_id',\n",
    "                       'name':'beer_name'},\n",
    "                        axis=1, inplace=True)\n",
    "\n",
    "brewerys_df.rename({'name':'brewery_name'},\n",
    "                      axis=1, inplace=True)\n",
    "\n",
    "beers_df.head(2)\n",
    "brewerys_df.head(2)"
   ]
  },
  {
   "cell_type": "code",
   "execution_count": 37,
   "id": "chronic-machinery",
   "metadata": {
    "execution": {
     "iopub.execute_input": "2021-03-26T21:26:57.468163Z",
     "iopub.status.busy": "2021-03-26T21:26:57.467168Z",
     "iopub.status.idle": "2021-03-26T21:26:57.479134Z",
     "shell.execute_reply": "2021-03-26T21:26:57.478136Z",
     "shell.execute_reply.started": "2021-03-26T21:26:57.468163Z"
    }
   },
   "outputs": [
    {
     "data": {
      "text/plain": [
       "77"
      ]
     },
     "execution_count": 37,
     "metadata": {},
     "output_type": "execute_result"
    }
   ],
   "source": [
    "#check for duplicates \n",
    "beers_df.duplicated(subset='beer_name').sum()"
   ]
  },
  {
   "cell_type": "code",
   "execution_count": 38,
   "id": "offensive-memorial",
   "metadata": {
    "execution": {
     "iopub.execute_input": "2021-03-26T21:26:57.480130Z",
     "iopub.status.busy": "2021-03-26T21:26:57.480130Z",
     "iopub.status.idle": "2021-03-26T21:26:57.510053Z",
     "shell.execute_reply": "2021-03-26T21:26:57.509053Z",
     "shell.execute_reply.started": "2021-03-26T21:26:57.480130Z"
    }
   },
   "outputs": [
    {
     "data": {
      "text/html": [
       "<div>\n",
       "<style scoped>\n",
       "    .dataframe tbody tr th:only-of-type {\n",
       "        vertical-align: middle;\n",
       "    }\n",
       "\n",
       "    .dataframe tbody tr th {\n",
       "        vertical-align: top;\n",
       "    }\n",
       "\n",
       "    .dataframe thead th {\n",
       "        text-align: right;\n",
       "    }\n",
       "</style>\n",
       "<table border=\"1\" class=\"dataframe\">\n",
       "  <thead>\n",
       "    <tr style=\"text-align: right;\">\n",
       "      <th></th>\n",
       "      <th>abv</th>\n",
       "      <th>ibu</th>\n",
       "      <th>beer_id</th>\n",
       "      <th>beer_name</th>\n",
       "      <th>style</th>\n",
       "      <th>brewery_id</th>\n",
       "      <th>ounces</th>\n",
       "    </tr>\n",
       "  </thead>\n",
       "  <tbody>\n",
       "    <tr>\n",
       "      <th>26</th>\n",
       "      <td>0.049</td>\n",
       "      <td>17.0</td>\n",
       "      <td>801</td>\n",
       "      <td>Hell or High Watermelon Wheat (2009)</td>\n",
       "      <td>Fruit / Vegetable Beer</td>\n",
       "      <td>368</td>\n",
       "      <td>12.0</td>\n",
       "    </tr>\n",
       "    <tr>\n",
       "      <th>69</th>\n",
       "      <td>0.080</td>\n",
       "      <td>68.0</td>\n",
       "      <td>2686</td>\n",
       "      <td>Citra Ass Down</td>\n",
       "      <td>American Double / Imperial IPA</td>\n",
       "      <td>1</td>\n",
       "      <td>16.0</td>\n",
       "    </tr>\n",
       "    <tr>\n",
       "      <th>81</th>\n",
       "      <td>0.050</td>\n",
       "      <td>20.0</td>\n",
       "      <td>2674</td>\n",
       "      <td>The Brown Note</td>\n",
       "      <td>English Brown Ale</td>\n",
       "      <td>1</td>\n",
       "      <td>16.0</td>\n",
       "    </tr>\n",
       "    <tr>\n",
       "      <th>109</th>\n",
       "      <td>0.057</td>\n",
       "      <td>13.0</td>\n",
       "      <td>1221</td>\n",
       "      <td>Barney Flats Oatmeal Stout</td>\n",
       "      <td>Oatmeal Stout</td>\n",
       "      <td>171</td>\n",
       "      <td>12.0</td>\n",
       "    </tr>\n",
       "    <tr>\n",
       "      <th>304</th>\n",
       "      <td>0.056</td>\n",
       "      <td>37.0</td>\n",
       "      <td>886</td>\n",
       "      <td>1327 Pod's ESB</td>\n",
       "      <td>Extra Special / Strong Bitter (ESB)</td>\n",
       "      <td>380</td>\n",
       "      <td>12.0</td>\n",
       "    </tr>\n",
       "  </tbody>\n",
       "</table>\n",
       "</div>"
      ],
      "text/plain": [
       "       abv   ibu  beer_id                             beer_name  \\\n",
       "26   0.049  17.0      801  Hell or High Watermelon Wheat (2009)   \n",
       "69   0.080  68.0     2686                        Citra Ass Down   \n",
       "81   0.050  20.0     2674                        The Brown Note   \n",
       "109  0.057  13.0     1221            Barney Flats Oatmeal Stout   \n",
       "304  0.056  37.0      886                        1327 Pod's ESB   \n",
       "\n",
       "                                   style  brewery_id  ounces  \n",
       "26                Fruit / Vegetable Beer         368    12.0  \n",
       "69        American Double / Imperial IPA           1    16.0  \n",
       "81                     English Brown Ale           1    16.0  \n",
       "109                        Oatmeal Stout         171    12.0  \n",
       "304  Extra Special / Strong Bitter (ESB)         380    12.0  "
      ]
     },
     "execution_count": 38,
     "metadata": {},
     "output_type": "execute_result"
    },
    {
     "data": {
      "text/plain": [
       "'Citra Ass Down'"
      ]
     },
     "execution_count": 38,
     "metadata": {},
     "output_type": "execute_result"
    }
   ],
   "source": [
    "# review duplicates \n",
    "duplicates = beers_df[beers_df.duplicated(subset='beer_name')]\n",
    "duplicates.head()\n",
    "\n",
    "duplicate_check = duplicates['beer_name'].iloc[1]\n",
    "duplicate_check"
   ]
  },
  {
   "cell_type": "code",
   "execution_count": 39,
   "id": "accessible-offering",
   "metadata": {
    "execution": {
     "iopub.execute_input": "2021-03-26T21:26:57.511325Z",
     "iopub.status.busy": "2021-03-26T21:26:57.511325Z",
     "iopub.status.idle": "2021-03-26T21:26:57.528015Z",
     "shell.execute_reply": "2021-03-26T21:26:57.527005Z",
     "shell.execute_reply.started": "2021-03-26T21:26:57.511325Z"
    }
   },
   "outputs": [
    {
     "data": {
      "text/html": [
       "<div>\n",
       "<style scoped>\n",
       "    .dataframe tbody tr th:only-of-type {\n",
       "        vertical-align: middle;\n",
       "    }\n",
       "\n",
       "    .dataframe tbody tr th {\n",
       "        vertical-align: top;\n",
       "    }\n",
       "\n",
       "    .dataframe thead th {\n",
       "        text-align: right;\n",
       "    }\n",
       "</style>\n",
       "<table border=\"1\" class=\"dataframe\">\n",
       "  <thead>\n",
       "    <tr style=\"text-align: right;\">\n",
       "      <th></th>\n",
       "      <th>abv</th>\n",
       "      <th>ibu</th>\n",
       "      <th>beer_id</th>\n",
       "      <th>beer_name</th>\n",
       "      <th>style</th>\n",
       "      <th>brewery_id</th>\n",
       "      <th>ounces</th>\n",
       "    </tr>\n",
       "  </thead>\n",
       "  <tbody>\n",
       "    <tr>\n",
       "      <th>67</th>\n",
       "      <td>0.082</td>\n",
       "      <td>68.0</td>\n",
       "      <td>2540</td>\n",
       "      <td>Citra Ass Down</td>\n",
       "      <td>American IPA</td>\n",
       "      <td>62</td>\n",
       "      <td>16.0</td>\n",
       "    </tr>\n",
       "    <tr>\n",
       "      <th>69</th>\n",
       "      <td>0.080</td>\n",
       "      <td>68.0</td>\n",
       "      <td>2686</td>\n",
       "      <td>Citra Ass Down</td>\n",
       "      <td>American Double / Imperial IPA</td>\n",
       "      <td>1</td>\n",
       "      <td>16.0</td>\n",
       "    </tr>\n",
       "  </tbody>\n",
       "</table>\n",
       "</div>"
      ],
      "text/plain": [
       "      abv   ibu  beer_id       beer_name                           style  \\\n",
       "67  0.082  68.0     2540  Citra Ass Down                    American IPA   \n",
       "69  0.080  68.0     2686  Citra Ass Down  American Double / Imperial IPA   \n",
       "\n",
       "    brewery_id  ounces  \n",
       "67          62    16.0  \n",
       "69           1    16.0  "
      ]
     },
     "execution_count": 39,
     "metadata": {},
     "output_type": "execute_result"
    }
   ],
   "source": [
    "#double checking for duplicates \n",
    "beers_df[beers_df['beer_name'] == duplicate_check]"
   ]
  },
  {
   "cell_type": "code",
   "execution_count": 40,
   "id": "administrative-feature",
   "metadata": {
    "execution": {
     "iopub.execute_input": "2021-03-26T21:26:57.528999Z",
     "iopub.status.busy": "2021-03-26T21:26:57.528999Z",
     "iopub.status.idle": "2021-03-26T21:26:57.551939Z",
     "shell.execute_reply": "2021-03-26T21:26:57.550941Z",
     "shell.execute_reply.started": "2021-03-26T21:26:57.528999Z"
    }
   },
   "outputs": [],
   "source": [
    "#drop duplicates \n",
    "beers_df.drop_duplicates(subset='beer_name',keep='first',inplace=True)"
   ]
  },
  {
   "cell_type": "code",
   "execution_count": 41,
   "id": "flexible-relationship",
   "metadata": {
    "execution": {
     "iopub.execute_input": "2021-03-26T21:26:57.552945Z",
     "iopub.status.busy": "2021-03-26T21:26:57.552945Z",
     "iopub.status.idle": "2021-03-26T21:26:57.567898Z",
     "shell.execute_reply": "2021-03-26T21:26:57.567898Z",
     "shell.execute_reply.started": "2021-03-26T21:26:57.552945Z"
    }
   },
   "outputs": [
    {
     "name": "stdout",
     "output_type": "stream",
     "text": [
      "<class 'pandas.core.frame.DataFrame'>\n",
      "Int64Index: 1326 entries, 14 to 2408\n",
      "Data columns (total 7 columns):\n",
      " #   Column      Non-Null Count  Dtype  \n",
      "---  ------      --------------  -----  \n",
      " 0   abv         1326 non-null   float64\n",
      " 1   ibu         1326 non-null   float64\n",
      " 2   beer_id     1326 non-null   int64  \n",
      " 3   beer_name   1326 non-null   object \n",
      " 4   style       1326 non-null   object \n",
      " 5   brewery_id  1326 non-null   int64  \n",
      " 6   ounces      1326 non-null   float64\n",
      "dtypes: float64(3), int64(2), object(2)\n",
      "memory usage: 82.9+ KB\n"
     ]
    }
   ],
   "source": [
    "beers_df.info()"
   ]
  },
  {
   "cell_type": "markdown",
   "id": "exposed-consequence",
   "metadata": {
    "execution": {
     "iopub.execute_input": "2021-03-26T21:17:19.539232Z",
     "iopub.status.busy": "2021-03-26T21:17:19.538235Z",
     "iopub.status.idle": "2021-03-26T21:17:19.544392Z",
     "shell.execute_reply": "2021-03-26T21:17:19.543223Z",
     "shell.execute_reply.started": "2021-03-26T21:17:19.538235Z"
    }
   },
   "source": [
    "## Transform "
   ]
  },
  {
   "cell_type": "code",
   "execution_count": 43,
   "id": "approved-catch",
   "metadata": {
    "execution": {
     "iopub.execute_input": "2021-03-26T21:44:11.985699Z",
     "iopub.status.busy": "2021-03-26T21:44:11.985699Z",
     "iopub.status.idle": "2021-03-26T21:44:11.996491Z",
     "shell.execute_reply": "2021-03-26T21:44:11.995939Z",
     "shell.execute_reply.started": "2021-03-26T21:44:11.985699Z"
    }
   },
   "outputs": [
    {
     "data": {
      "text/plain": [
       "90"
      ]
     },
     "execution_count": 43,
     "metadata": {},
     "output_type": "execute_result"
    },
    {
     "data": {
      "text/plain": [
       "array(['American Pale Ale (APA)', 'American Barleywine', 'Winter Warmer',\n",
       "       'Fruit / Vegetable Beer', 'American IPA', 'English Strong Ale',\n",
       "       'American Double / Imperial IPA', 'American Black Ale',\n",
       "       'Belgian Dark Ale', 'Berliner Weissbier'], dtype=object)"
      ]
     },
     "execution_count": 43,
     "metadata": {},
     "output_type": "execute_result"
    }
   ],
   "source": [
    "beers_df['style'].nunique()\n",
    "unique_styles = beers_df['style'].unique()\n",
    "unique_styles[0:10]"
   ]
  },
  {
   "cell_type": "code",
   "execution_count": 44,
   "id": "functioning-saudi",
   "metadata": {
    "execution": {
     "iopub.execute_input": "2021-03-26T21:47:18.489625Z",
     "iopub.status.busy": "2021-03-26T21:47:18.488592Z",
     "iopub.status.idle": "2021-03-26T21:47:18.496203Z",
     "shell.execute_reply": "2021-03-26T21:47:18.495145Z",
     "shell.execute_reply.started": "2021-03-26T21:47:18.489625Z"
    }
   },
   "outputs": [],
   "source": [
    "style_df = beers_df[['style']].copy()"
   ]
  },
  {
   "cell_type": "code",
   "execution_count": 47,
   "id": "current-monday",
   "metadata": {
    "execution": {
     "iopub.execute_input": "2021-03-26T21:48:21.512466Z",
     "iopub.status.busy": "2021-03-26T21:48:21.512466Z",
     "iopub.status.idle": "2021-03-26T21:48:21.523305Z",
     "shell.execute_reply": "2021-03-26T21:48:21.522401Z",
     "shell.execute_reply.started": "2021-03-26T21:48:21.512466Z"
    }
   },
   "outputs": [],
   "source": [
    "#convert series/frame\n",
    "style_df = style_df.value_counts().to_frame().reset_index().copy()"
   ]
  },
  {
   "cell_type": "code",
   "execution_count": 50,
   "id": "critical-creature",
   "metadata": {
    "execution": {
     "iopub.execute_input": "2021-03-26T21:49:05.672738Z",
     "iopub.status.busy": "2021-03-26T21:49:05.671741Z",
     "iopub.status.idle": "2021-03-26T21:49:05.681715Z",
     "shell.execute_reply": "2021-03-26T21:49:05.679719Z",
     "shell.execute_reply.started": "2021-03-26T21:49:05.672738Z"
    }
   },
   "outputs": [],
   "source": [
    "#rename columns \n",
    "style_df.rename({0:'counts'},axis=1,inplace=True)"
   ]
  },
  {
   "cell_type": "code",
   "execution_count": 52,
   "id": "dental-zealand",
   "metadata": {
    "execution": {
     "iopub.execute_input": "2021-03-26T21:51:02.224014Z",
     "iopub.status.busy": "2021-03-26T21:51:02.223017Z",
     "iopub.status.idle": "2021-03-26T21:51:02.247678Z",
     "shell.execute_reply": "2021-03-26T21:51:02.246926Z",
     "shell.execute_reply.started": "2021-03-26T21:51:02.224014Z"
    }
   },
   "outputs": [
    {
     "data": {
      "text/html": [
       "<div>\n",
       "<style scoped>\n",
       "    .dataframe tbody tr th:only-of-type {\n",
       "        vertical-align: middle;\n",
       "    }\n",
       "\n",
       "    .dataframe tbody tr th {\n",
       "        vertical-align: top;\n",
       "    }\n",
       "\n",
       "    .dataframe thead th {\n",
       "        text-align: right;\n",
       "    }\n",
       "</style>\n",
       "<table border=\"1\" class=\"dataframe\">\n",
       "  <thead>\n",
       "    <tr style=\"text-align: right;\">\n",
       "      <th></th>\n",
       "      <th>style</th>\n",
       "      <th>counts</th>\n",
       "    </tr>\n",
       "  </thead>\n",
       "  <tbody>\n",
       "    <tr>\n",
       "      <th>0</th>\n",
       "      <td>American IPA</td>\n",
       "      <td>288</td>\n",
       "    </tr>\n",
       "    <tr>\n",
       "      <th>1</th>\n",
       "      <td>American Pale Ale (APA)</td>\n",
       "      <td>142</td>\n",
       "    </tr>\n",
       "    <tr>\n",
       "      <th>2</th>\n",
       "      <td>American Amber / Red Ale</td>\n",
       "      <td>76</td>\n",
       "    </tr>\n",
       "    <tr>\n",
       "      <th>3</th>\n",
       "      <td>American Double / Imperial IPA</td>\n",
       "      <td>72</td>\n",
       "    </tr>\n",
       "    <tr>\n",
       "      <th>4</th>\n",
       "      <td>American Blonde Ale</td>\n",
       "      <td>58</td>\n",
       "    </tr>\n",
       "    <tr>\n",
       "      <th>5</th>\n",
       "      <td>American Pale Wheat Ale</td>\n",
       "      <td>45</td>\n",
       "    </tr>\n",
       "    <tr>\n",
       "      <th>6</th>\n",
       "      <td>American Brown Ale</td>\n",
       "      <td>37</td>\n",
       "    </tr>\n",
       "    <tr>\n",
       "      <th>7</th>\n",
       "      <td>American Porter</td>\n",
       "      <td>37</td>\n",
       "    </tr>\n",
       "    <tr>\n",
       "      <th>8</th>\n",
       "      <td>Kölsch</td>\n",
       "      <td>27</td>\n",
       "    </tr>\n",
       "    <tr>\n",
       "      <th>9</th>\n",
       "      <td>Fruit / Vegetable Beer</td>\n",
       "      <td>27</td>\n",
       "    </tr>\n",
       "  </tbody>\n",
       "</table>\n",
       "</div>"
      ],
      "text/plain": [
       "                            style  counts\n",
       "0                    American IPA     288\n",
       "1         American Pale Ale (APA)     142\n",
       "2        American Amber / Red Ale      76\n",
       "3  American Double / Imperial IPA      72\n",
       "4             American Blonde Ale      58\n",
       "5         American Pale Wheat Ale      45\n",
       "6              American Brown Ale      37\n",
       "7                 American Porter      37\n",
       "8                          Kölsch      27\n",
       "9          Fruit / Vegetable Beer      27"
      ]
     },
     "execution_count": 52,
     "metadata": {},
     "output_type": "execute_result"
    }
   ],
   "source": [
    "#style groups with 26 or more\n",
    "style_df[style_df['counts'] > 26]            "
   ]
  },
  {
   "cell_type": "code",
   "execution_count": 55,
   "id": "comfortable-shopping",
   "metadata": {
    "execution": {
     "iopub.execute_input": "2021-03-26T21:53:06.594248Z",
     "iopub.status.busy": "2021-03-26T21:53:06.594248Z",
     "iopub.status.idle": "2021-03-26T21:53:06.604989Z",
     "shell.execute_reply": "2021-03-26T21:53:06.603709Z",
     "shell.execute_reply.started": "2021-03-26T21:53:06.594248Z"
    }
   },
   "outputs": [
    {
     "data": {
      "text/plain": [
       "['American IPA',\n",
       " 'American Pale Ale (APA)',\n",
       " 'American Amber / Red Ale',\n",
       " 'American Double / Imperial IPA',\n",
       " 'American Blonde Ale',\n",
       " 'American Pale Wheat Ale',\n",
       " 'American Brown Ale',\n",
       " 'American Porter',\n",
       " 'Kölsch',\n",
       " 'Fruit / Vegetable Beer']"
      ]
     },
     "execution_count": 55,
     "metadata": {},
     "output_type": "execute_result"
    }
   ],
   "source": [
    "# Create list of style groups for mapping \n",
    "style_list = style_df[style_df['counts'] > 26]['style'].to_list()\n",
    "style_list"
   ]
  },
  {
   "cell_type": "code",
   "execution_count": 57,
   "id": "medical-exclusion",
   "metadata": {
    "execution": {
     "iopub.execute_input": "2021-03-26T21:54:46.151647Z",
     "iopub.status.busy": "2021-03-26T21:54:46.151647Z",
     "iopub.status.idle": "2021-03-26T21:54:46.157893Z",
     "shell.execute_reply": "2021-03-26T21:54:46.157893Z",
     "shell.execute_reply.started": "2021-03-26T21:54:46.151647Z"
    }
   },
   "outputs": [],
   "source": [
    "# use lsit comprehension to map column values \n",
    "beers_df['style_group'] = beers_df['style'].apply(lambda x: x if x in style_list else 'other')"
   ]
  },
  {
   "cell_type": "code",
   "execution_count": 59,
   "id": "driving-mason",
   "metadata": {
    "execution": {
     "iopub.execute_input": "2021-03-26T22:00:22.730258Z",
     "iopub.status.busy": "2021-03-26T22:00:22.729259Z",
     "iopub.status.idle": "2021-03-26T22:00:22.736279Z",
     "shell.execute_reply": "2021-03-26T22:00:22.736279Z",
     "shell.execute_reply.started": "2021-03-26T22:00:22.730258Z"
    }
   },
   "outputs": [
    {
     "data": {
      "text/plain": [
       "Index(['abv', 'ibu', 'beer_id', 'beer_name', 'style', 'brewery_id', 'ounces',\n",
       "       'style_group'],\n",
       "      dtype='object')"
      ]
     },
     "execution_count": 59,
     "metadata": {},
     "output_type": "execute_result"
    }
   ],
   "source": [
    " \n",
    "beers_df.columns"
   ]
  },
  {
   "cell_type": "code",
   "execution_count": 60,
   "id": "polish-identity",
   "metadata": {
    "execution": {
     "iopub.execute_input": "2021-03-26T22:05:08.828180Z",
     "iopub.status.busy": "2021-03-26T22:05:08.827251Z",
     "iopub.status.idle": "2021-03-26T22:05:08.835220Z",
     "shell.execute_reply": "2021-03-26T22:05:08.834166Z",
     "shell.execute_reply.started": "2021-03-26T22:05:08.827251Z"
    }
   },
   "outputs": [],
   "source": [
    "#reorder columns\n",
    "beers_df = beers_df[['abv', 'ibu', 'beer_id', \n",
    "                     'beer_name', 'style','style_group','ounces', 'brewery_id']]"
   ]
  },
  {
   "cell_type": "code",
   "execution_count": 61,
   "id": "fitted-horse",
   "metadata": {
    "execution": {
     "iopub.execute_input": "2021-03-26T22:05:10.831851Z",
     "iopub.status.busy": "2021-03-26T22:05:10.831851Z",
     "iopub.status.idle": "2021-03-26T22:05:10.846418Z",
     "shell.execute_reply": "2021-03-26T22:05:10.845812Z",
     "shell.execute_reply.started": "2021-03-26T22:05:10.831851Z"
    }
   },
   "outputs": [
    {
     "data": {
      "text/html": [
       "<div>\n",
       "<style scoped>\n",
       "    .dataframe tbody tr th:only-of-type {\n",
       "        vertical-align: middle;\n",
       "    }\n",
       "\n",
       "    .dataframe tbody tr th {\n",
       "        vertical-align: top;\n",
       "    }\n",
       "\n",
       "    .dataframe thead th {\n",
       "        text-align: right;\n",
       "    }\n",
       "</style>\n",
       "<table border=\"1\" class=\"dataframe\">\n",
       "  <thead>\n",
       "    <tr style=\"text-align: right;\">\n",
       "      <th></th>\n",
       "      <th>abv</th>\n",
       "      <th>ibu</th>\n",
       "      <th>beer_id</th>\n",
       "      <th>beer_name</th>\n",
       "      <th>style</th>\n",
       "      <th>style_group</th>\n",
       "      <th>ounces</th>\n",
       "      <th>brewery_id</th>\n",
       "    </tr>\n",
       "  </thead>\n",
       "  <tbody>\n",
       "    <tr>\n",
       "      <th>14</th>\n",
       "      <td>0.061</td>\n",
       "      <td>60.0</td>\n",
       "      <td>1979</td>\n",
       "      <td>Bitter Bitch</td>\n",
       "      <td>American Pale Ale (APA)</td>\n",
       "      <td>American Pale Ale (APA)</td>\n",
       "      <td>12.0</td>\n",
       "      <td>177</td>\n",
       "    </tr>\n",
       "    <tr>\n",
       "      <th>21</th>\n",
       "      <td>0.099</td>\n",
       "      <td>92.0</td>\n",
       "      <td>1036</td>\n",
       "      <td>Lower De Boom</td>\n",
       "      <td>American Barleywine</td>\n",
       "      <td>other</td>\n",
       "      <td>8.4</td>\n",
       "      <td>368</td>\n",
       "    </tr>\n",
       "    <tr>\n",
       "      <th>22</th>\n",
       "      <td>0.079</td>\n",
       "      <td>45.0</td>\n",
       "      <td>1024</td>\n",
       "      <td>Fireside Chat</td>\n",
       "      <td>Winter Warmer</td>\n",
       "      <td>other</td>\n",
       "      <td>12.0</td>\n",
       "      <td>368</td>\n",
       "    </tr>\n",
       "    <tr>\n",
       "      <th>24</th>\n",
       "      <td>0.044</td>\n",
       "      <td>42.0</td>\n",
       "      <td>876</td>\n",
       "      <td>Bitter American</td>\n",
       "      <td>American Pale Ale (APA)</td>\n",
       "      <td>American Pale Ale (APA)</td>\n",
       "      <td>12.0</td>\n",
       "      <td>368</td>\n",
       "    </tr>\n",
       "    <tr>\n",
       "      <th>25</th>\n",
       "      <td>0.049</td>\n",
       "      <td>17.0</td>\n",
       "      <td>802</td>\n",
       "      <td>Hell or High Watermelon Wheat (2009)</td>\n",
       "      <td>Fruit / Vegetable Beer</td>\n",
       "      <td>Fruit / Vegetable Beer</td>\n",
       "      <td>12.0</td>\n",
       "      <td>368</td>\n",
       "    </tr>\n",
       "  </tbody>\n",
       "</table>\n",
       "</div>"
      ],
      "text/plain": [
       "      abv   ibu  beer_id                             beer_name  \\\n",
       "14  0.061  60.0     1979                          Bitter Bitch   \n",
       "21  0.099  92.0     1036                         Lower De Boom   \n",
       "22  0.079  45.0     1024                         Fireside Chat   \n",
       "24  0.044  42.0      876                       Bitter American   \n",
       "25  0.049  17.0      802  Hell or High Watermelon Wheat (2009)   \n",
       "\n",
       "                      style              style_group  ounces  brewery_id  \n",
       "14  American Pale Ale (APA)  American Pale Ale (APA)    12.0         177  \n",
       "21      American Barleywine                    other     8.4         368  \n",
       "22            Winter Warmer                    other    12.0         368  \n",
       "24  American Pale Ale (APA)  American Pale Ale (APA)    12.0         368  \n",
       "25   Fruit / Vegetable Beer   Fruit / Vegetable Beer    12.0         368  "
      ]
     },
     "execution_count": 61,
     "metadata": {},
     "output_type": "execute_result"
    }
   ],
   "source": [
    "beers_df.head()"
   ]
  },
  {
   "cell_type": "code",
   "execution_count": 64,
   "id": "suffering-crowd",
   "metadata": {
    "execution": {
     "iopub.execute_input": "2021-03-26T22:10:09.561769Z",
     "iopub.status.busy": "2021-03-26T22:10:09.560363Z",
     "iopub.status.idle": "2021-03-26T22:10:09.587290Z",
     "shell.execute_reply": "2021-03-26T22:10:09.587290Z",
     "shell.execute_reply.started": "2021-03-26T22:10:09.561769Z"
    }
   },
   "outputs": [],
   "source": [
    "#save cleaned and transformed data \n",
    "beers_df.to_csv('beer_cleaned.csv',index=False)\n",
    "brewerys_df.to_csv('brewery_cleaned.csv', index=False)"
   ]
  },
  {
   "cell_type": "code",
   "execution_count": null,
   "id": "standing-flexibility",
   "metadata": {},
   "outputs": [],
   "source": []
  }
 ],
 "metadata": {
  "kernelspec": {
   "display_name": "PythonData",
   "language": "python",
   "name": "pythondata"
  },
  "language_info": {
   "codemirror_mode": {
    "name": "ipython",
    "version": 3
   },
   "file_extension": ".py",
   "mimetype": "text/x-python",
   "name": "python",
   "nbconvert_exporter": "python",
   "pygments_lexer": "ipython3",
   "version": "3.7.9"
  }
 },
 "nbformat": 4,
 "nbformat_minor": 5
}
