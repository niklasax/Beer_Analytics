{
 "cells": [
  {
   "cell_type": "code",
   "execution_count": 1,
   "id": "permanent-albert",
   "metadata": {
    "execution": {
     "iopub.execute_input": "2021-03-24T23:44:07.143887Z",
     "iopub.status.busy": "2021-03-24T23:44:07.142849Z",
     "iopub.status.idle": "2021-03-24T23:44:07.148833Z",
     "shell.execute_reply": "2021-03-24T23:44:07.147838Z",
     "shell.execute_reply.started": "2021-03-24T23:44:07.143887Z"
    }
   },
   "outputs": [],
   "source": [
    "import pandas as pd "
   ]
  },
  {
   "cell_type": "code",
   "execution_count": 2,
   "id": "physical-kidney",
   "metadata": {
    "execution": {
     "iopub.execute_input": "2021-03-24T23:44:26.403319Z",
     "iopub.status.busy": "2021-03-24T23:44:26.403319Z",
     "iopub.status.idle": "2021-03-24T23:44:26.445748Z",
     "shell.execute_reply": "2021-03-24T23:44:26.445748Z",
     "shell.execute_reply.started": "2021-03-24T23:44:26.403319Z"
    }
   },
   "outputs": [],
   "source": [
    "beers_df = pd.read_csv('beer_cleaned.csv')"
   ]
  },
  {
   "cell_type": "code",
   "execution_count": 4,
   "id": "associate-prize",
   "metadata": {
    "execution": {
     "iopub.execute_input": "2021-03-24T23:44:42.250560Z",
     "iopub.status.busy": "2021-03-24T23:44:42.250560Z",
     "iopub.status.idle": "2021-03-24T23:44:42.257106Z",
     "shell.execute_reply": "2021-03-24T23:44:42.256544Z",
     "shell.execute_reply.started": "2021-03-24T23:44:42.250560Z"
    }
   },
   "outputs": [
    {
     "data": {
      "text/plain": [
       "array(['American Pale Ale (APA)', 'American Barleywine', 'Winter Warmer',\n",
       "       'Fruit / Vegetable Beer', 'American IPA', 'English Strong Ale',\n",
       "       'American Double / Imperial IPA', 'American Black Ale',\n",
       "       'Belgian Dark Ale', 'Berliner Weissbier', 'American Blonde Ale',\n",
       "       'American Pale Wheat Ale', 'Kölsch', 'English Pale Ale',\n",
       "       'American Amber / Red Lager', 'American Brown Ale',\n",
       "       'English Barleywine', 'Milk / Sweet Stout', 'German Pilsener',\n",
       "       'Pumpkin Ale', 'Belgian Pale Ale', 'American Pilsner',\n",
       "       'Saison / Farmhouse Ale', 'American Stout', 'Altbier',\n",
       "       'Oatmeal Stout', 'Cream Ale', 'American Amber / Red Ale',\n",
       "       'Vienna Lager', 'American Porter',\n",
       "       'American Double / Imperial Stout', 'Gose', 'Munich Helles Lager',\n",
       "       'Witbier', 'Märzen / Oktoberfest', 'Tripel', 'Rye Beer',\n",
       "       'American Pale Lager', 'Euro Dark Lager',\n",
       "       'California Common / Steam Beer', 'Schwarzbier', 'Hefeweizen',\n",
       "       'Other', 'English India Pale Ale (IPA)',\n",
       "       'Extra Special / Strong Bitter (ESB)', 'American Strong Ale',\n",
       "       'Czech Pilsener', 'Foreign / Export Stout', 'Euro Pale Lager',\n",
       "       'American White IPA', 'Irish Dry Stout', 'Scotch Ale / Wee Heavy',\n",
       "       'Radler', 'Irish Red Ale', 'Herbed / Spiced Beer',\n",
       "       'American Adjunct Lager', 'Scottish Ale', 'Smoked Beer', 'Bock',\n",
       "       'English Brown Ale', 'Belgian Strong Pale Ale',\n",
       "       'English Pale Mild Ale', 'Abbey Single Ale', 'Belgian IPA',\n",
       "       'Roggenbier', 'Dortmunder / Export Lager',\n",
       "       'American Dark Wheat Ale', 'English Stout',\n",
       "       'English Dark Mild Ale', 'Russian Imperial Stout',\n",
       "       'Keller Bier / Zwickel Bier', 'American India Pale Lager',\n",
       "       'Doppelbock', 'Munich Dunkel Lager', 'Maibock / Helles Bock',\n",
       "       'Wheat Ale', 'Light Lager', 'Dunkelweizen', 'Baltic Porter',\n",
       "       'English Bitter', 'Belgian Strong Dark Ale', 'Dubbel',\n",
       "       'Chile Beer', 'Grisette', 'Bière de Garde', 'Old Ale',\n",
       "       'Flanders Oud Bruin', 'Quadrupel (Quad)', 'American Wild Ale',\n",
       "       'American Double / Imperial Pilsner'], dtype=object)"
      ]
     },
     "execution_count": 4,
     "metadata": {},
     "output_type": "execute_result"
    }
   ],
   "source": [
    "beers_df['style'].unique()"
   ]
  },
  {
   "cell_type": "code",
   "execution_count": null,
   "id": "convenient-senior",
   "metadata": {},
   "outputs": [],
   "source": []
  }
 ],
 "metadata": {
  "kernelspec": {
   "display_name": "PythonData",
   "language": "python",
   "name": "pythondata"
  },
  "language_info": {
   "codemirror_mode": {
    "name": "ipython",
    "version": 3
   },
   "file_extension": ".py",
   "mimetype": "text/x-python",
   "name": "python",
   "nbconvert_exporter": "python",
   "pygments_lexer": "ipython3",
   "version": "3.7.9"
  }
 },
 "nbformat": 4,
 "nbformat_minor": 5
}
