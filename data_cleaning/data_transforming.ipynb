{
 "cells": [
  {
   "cell_type": "code",
   "execution_count": 43,
   "id": "genetic-sweden",
   "metadata": {
    "execution": {
     "iopub.execute_input": "2021-03-26T01:27:42.636889Z",
     "iopub.status.busy": "2021-03-26T01:27:42.636889Z",
     "iopub.status.idle": "2021-03-26T01:27:42.643838Z",
     "shell.execute_reply": "2021-03-26T01:27:42.642841Z",
     "shell.execute_reply.started": "2021-03-26T01:27:42.636889Z"
    }
   },
   "outputs": [],
   "source": [
    "#import dependencies \n",
    "import pandas as pd "
   ]
  },
  {
   "cell_type": "code",
   "execution_count": 44,
   "id": "fuzzy-giving",
   "metadata": {
    "execution": {
     "iopub.execute_input": "2021-03-26T01:27:43.028759Z",
     "iopub.status.busy": "2021-03-26T01:27:43.027769Z",
     "iopub.status.idle": "2021-03-26T01:27:43.043264Z",
     "shell.execute_reply": "2021-03-26T01:27:43.042267Z",
     "shell.execute_reply.started": "2021-03-26T01:27:43.028759Z"
    }
   },
   "outputs": [],
   "source": [
    "#create dataframe \n",
    "beers_df = pd.read_csv('beer_cleaned.csv')"
   ]
  },
  {
   "cell_type": "code",
   "execution_count": 45,
   "id": "based-brick",
   "metadata": {
    "execution": {
     "iopub.execute_input": "2021-03-26T01:27:44.558675Z",
     "iopub.status.busy": "2021-03-26T01:27:44.558675Z",
     "iopub.status.idle": "2021-03-26T01:27:44.568219Z",
     "shell.execute_reply": "2021-03-26T01:27:44.567221Z",
     "shell.execute_reply.started": "2021-03-26T01:27:44.558675Z"
    }
   },
   "outputs": [
    {
     "data": {
      "text/plain": [
       "90"
      ]
     },
     "execution_count": 45,
     "metadata": {},
     "output_type": "execute_result"
    },
    {
     "data": {
      "text/plain": [
       "array(['American Pale Ale (APA)', 'American Barleywine', 'Winter Warmer',\n",
       "       'Fruit / Vegetable Beer', 'American IPA', 'English Strong Ale',\n",
       "       'American Double / Imperial IPA', 'American Black Ale',\n",
       "       'Belgian Dark Ale', 'Berliner Weissbier'], dtype=object)"
      ]
     },
     "execution_count": 45,
     "metadata": {},
     "output_type": "execute_result"
    }
   ],
   "source": [
    "#review styles \n",
    "beers_df['style'].nunique()\n",
    "unique_styles = beers_df['style'].unique()\n",
    "unique_styles[0:10]"
   ]
  },
  {
   "cell_type": "code",
   "execution_count": 46,
   "id": "impressive-commissioner",
   "metadata": {
    "execution": {
     "iopub.execute_input": "2021-03-26T01:28:05.873611Z",
     "iopub.status.busy": "2021-03-26T01:28:05.872578Z",
     "iopub.status.idle": "2021-03-26T01:28:05.880558Z",
     "shell.execute_reply": "2021-03-26T01:28:05.879559Z",
     "shell.execute_reply.started": "2021-03-26T01:28:05.873611Z"
    }
   },
   "outputs": [],
   "source": [
    "style_df = beers_df[['style']].copy()"
   ]
  },
  {
   "cell_type": "code",
   "execution_count": 56,
   "id": "official-swift",
   "metadata": {
    "execution": {
     "iopub.execute_input": "2021-03-26T01:29:16.455500Z",
     "iopub.status.busy": "2021-03-26T01:29:16.455500Z",
     "iopub.status.idle": "2021-03-26T01:29:16.466060Z",
     "shell.execute_reply": "2021-03-26T01:29:16.465505Z",
     "shell.execute_reply.started": "2021-03-26T01:29:16.455500Z"
    }
   },
   "outputs": [],
   "source": [
    "#convert series/frame\n",
    "style_counts_df = style_df.value_counts().to_frame().reset_index().copy()"
   ]
  },
  {
   "cell_type": "code",
   "execution_count": 58,
   "id": "enclosed-century",
   "metadata": {
    "execution": {
     "iopub.execute_input": "2021-03-26T01:29:42.522935Z",
     "iopub.status.busy": "2021-03-26T01:29:42.522935Z",
     "iopub.status.idle": "2021-03-26T01:29:42.527921Z",
     "shell.execute_reply": "2021-03-26T01:29:42.526963Z",
     "shell.execute_reply.started": "2021-03-26T01:29:42.522935Z"
    }
   },
   "outputs": [],
   "source": [
    "#rename columns \n",
    "style_counts_df.rename({0:'counts'},axis=1,inplace=True)"
   ]
  },
  {
   "cell_type": "markdown",
   "id": "distributed-trade",
   "metadata": {},
   "source": [
    "### Review observation thresholds "
   ]
  },
  {
   "cell_type": "code",
   "execution_count": 59,
   "id": "spoken-lyric",
   "metadata": {
    "execution": {
     "iopub.execute_input": "2021-03-26T01:29:48.304037Z",
     "iopub.status.busy": "2021-03-26T01:29:48.304037Z",
     "iopub.status.idle": "2021-03-26T01:29:48.318042Z",
     "shell.execute_reply": "2021-03-26T01:29:48.316517Z",
     "shell.execute_reply.started": "2021-03-26T01:29:48.304037Z"
    }
   },
   "outputs": [
    {
     "data": {
      "text/html": [
       "<div>\n",
       "<style scoped>\n",
       "    .dataframe tbody tr th:only-of-type {\n",
       "        vertical-align: middle;\n",
       "    }\n",
       "\n",
       "    .dataframe tbody tr th {\n",
       "        vertical-align: top;\n",
       "    }\n",
       "\n",
       "    .dataframe thead th {\n",
       "        text-align: right;\n",
       "    }\n",
       "</style>\n",
       "<table border=\"1\" class=\"dataframe\">\n",
       "  <thead>\n",
       "    <tr style=\"text-align: right;\">\n",
       "      <th></th>\n",
       "      <th>style</th>\n",
       "      <th>counts</th>\n",
       "    </tr>\n",
       "  </thead>\n",
       "  <tbody>\n",
       "    <tr>\n",
       "      <th>0</th>\n",
       "      <td>American IPA</td>\n",
       "      <td>288</td>\n",
       "    </tr>\n",
       "    <tr>\n",
       "      <th>1</th>\n",
       "      <td>American Pale Ale (APA)</td>\n",
       "      <td>142</td>\n",
       "    </tr>\n",
       "    <tr>\n",
       "      <th>2</th>\n",
       "      <td>American Amber / Red Ale</td>\n",
       "      <td>76</td>\n",
       "    </tr>\n",
       "    <tr>\n",
       "      <th>3</th>\n",
       "      <td>American Double / Imperial IPA</td>\n",
       "      <td>72</td>\n",
       "    </tr>\n",
       "    <tr>\n",
       "      <th>4</th>\n",
       "      <td>American Blonde Ale</td>\n",
       "      <td>58</td>\n",
       "    </tr>\n",
       "    <tr>\n",
       "      <th>...</th>\n",
       "      <td>...</td>\n",
       "      <td>...</td>\n",
       "    </tr>\n",
       "    <tr>\n",
       "      <th>85</th>\n",
       "      <td>Belgian Strong Dark Ale</td>\n",
       "      <td>1</td>\n",
       "    </tr>\n",
       "    <tr>\n",
       "      <th>86</th>\n",
       "      <td>Roggenbier</td>\n",
       "      <td>1</td>\n",
       "    </tr>\n",
       "    <tr>\n",
       "      <th>87</th>\n",
       "      <td>Quadrupel (Quad)</td>\n",
       "      <td>1</td>\n",
       "    </tr>\n",
       "    <tr>\n",
       "      <th>88</th>\n",
       "      <td>Flanders Oud Bruin</td>\n",
       "      <td>1</td>\n",
       "    </tr>\n",
       "    <tr>\n",
       "      <th>89</th>\n",
       "      <td>Euro Pale Lager</td>\n",
       "      <td>1</td>\n",
       "    </tr>\n",
       "  </tbody>\n",
       "</table>\n",
       "<p>90 rows × 2 columns</p>\n",
       "</div>"
      ],
      "text/plain": [
       "                             style  counts\n",
       "0                     American IPA     288\n",
       "1          American Pale Ale (APA)     142\n",
       "2         American Amber / Red Ale      76\n",
       "3   American Double / Imperial IPA      72\n",
       "4              American Blonde Ale      58\n",
       "..                             ...     ...\n",
       "85         Belgian Strong Dark Ale       1\n",
       "86                      Roggenbier       1\n",
       "87                Quadrupel (Quad)       1\n",
       "88              Flanders Oud Bruin       1\n",
       "89                 Euro Pale Lager       1\n",
       "\n",
       "[90 rows x 2 columns]"
      ]
     },
     "execution_count": 59,
     "metadata": {},
     "output_type": "execute_result"
    }
   ],
   "source": [
    "style_counts_df"
   ]
  },
  {
   "cell_type": "code",
   "execution_count": 63,
   "id": "peaceful-trout",
   "metadata": {
    "execution": {
     "iopub.execute_input": "2021-03-26T01:31:54.595151Z",
     "iopub.status.busy": "2021-03-26T01:31:54.595151Z",
     "iopub.status.idle": "2021-03-26T01:31:54.607724Z",
     "shell.execute_reply": "2021-03-26T01:31:54.606728Z",
     "shell.execute_reply.started": "2021-03-26T01:31:54.595151Z"
    }
   },
   "outputs": [
    {
     "data": {
      "text/html": [
       "<div>\n",
       "<style scoped>\n",
       "    .dataframe tbody tr th:only-of-type {\n",
       "        vertical-align: middle;\n",
       "    }\n",
       "\n",
       "    .dataframe tbody tr th {\n",
       "        vertical-align: top;\n",
       "    }\n",
       "\n",
       "    .dataframe thead th {\n",
       "        text-align: right;\n",
       "    }\n",
       "</style>\n",
       "<table border=\"1\" class=\"dataframe\">\n",
       "  <thead>\n",
       "    <tr style=\"text-align: right;\">\n",
       "      <th></th>\n",
       "      <th>style</th>\n",
       "      <th>counts</th>\n",
       "    </tr>\n",
       "  </thead>\n",
       "  <tbody>\n",
       "    <tr>\n",
       "      <th>0</th>\n",
       "      <td>American IPA</td>\n",
       "      <td>288</td>\n",
       "    </tr>\n",
       "    <tr>\n",
       "      <th>1</th>\n",
       "      <td>American Pale Ale (APA)</td>\n",
       "      <td>142</td>\n",
       "    </tr>\n",
       "    <tr>\n",
       "      <th>2</th>\n",
       "      <td>American Amber / Red Ale</td>\n",
       "      <td>76</td>\n",
       "    </tr>\n",
       "    <tr>\n",
       "      <th>3</th>\n",
       "      <td>American Double / Imperial IPA</td>\n",
       "      <td>72</td>\n",
       "    </tr>\n",
       "    <tr>\n",
       "      <th>4</th>\n",
       "      <td>American Blonde Ale</td>\n",
       "      <td>58</td>\n",
       "    </tr>\n",
       "    <tr>\n",
       "      <th>5</th>\n",
       "      <td>American Pale Wheat Ale</td>\n",
       "      <td>45</td>\n",
       "    </tr>\n",
       "    <tr>\n",
       "      <th>6</th>\n",
       "      <td>American Brown Ale</td>\n",
       "      <td>37</td>\n",
       "    </tr>\n",
       "    <tr>\n",
       "      <th>7</th>\n",
       "      <td>American Porter</td>\n",
       "      <td>37</td>\n",
       "    </tr>\n",
       "  </tbody>\n",
       "</table>\n",
       "</div>"
      ],
      "text/plain": [
       "                            style  counts\n",
       "0                    American IPA     288\n",
       "1         American Pale Ale (APA)     142\n",
       "2        American Amber / Red Ale      76\n",
       "3  American Double / Imperial IPA      72\n",
       "4             American Blonde Ale      58\n",
       "5         American Pale Wheat Ale      45\n",
       "6              American Brown Ale      37\n",
       "7                 American Porter      37"
      ]
     },
     "execution_count": 63,
     "metadata": {},
     "output_type": "execute_result"
    }
   ],
   "source": [
    "style_counts_df[style_counts_df['counts'] > 30]      "
   ]
  },
  {
   "cell_type": "code",
   "execution_count": 74,
   "id": "eligible-cooler",
   "metadata": {
    "execution": {
     "iopub.execute_input": "2021-03-26T01:35:44.093430Z",
     "iopub.status.busy": "2021-03-26T01:35:44.092434Z",
     "iopub.status.idle": "2021-03-26T01:35:44.104912Z",
     "shell.execute_reply": "2021-03-26T01:35:44.104400Z",
     "shell.execute_reply.started": "2021-03-26T01:35:44.092434Z"
    }
   },
   "outputs": [
    {
     "data": {
      "text/html": [
       "<div>\n",
       "<style scoped>\n",
       "    .dataframe tbody tr th:only-of-type {\n",
       "        vertical-align: middle;\n",
       "    }\n",
       "\n",
       "    .dataframe tbody tr th {\n",
       "        vertical-align: top;\n",
       "    }\n",
       "\n",
       "    .dataframe thead th {\n",
       "        text-align: right;\n",
       "    }\n",
       "</style>\n",
       "<table border=\"1\" class=\"dataframe\">\n",
       "  <thead>\n",
       "    <tr style=\"text-align: right;\">\n",
       "      <th></th>\n",
       "      <th>style</th>\n",
       "      <th>counts</th>\n",
       "    </tr>\n",
       "  </thead>\n",
       "  <tbody>\n",
       "    <tr>\n",
       "      <th>0</th>\n",
       "      <td>American IPA</td>\n",
       "      <td>288</td>\n",
       "    </tr>\n",
       "    <tr>\n",
       "      <th>1</th>\n",
       "      <td>American Pale Ale (APA)</td>\n",
       "      <td>142</td>\n",
       "    </tr>\n",
       "    <tr>\n",
       "      <th>2</th>\n",
       "      <td>American Amber / Red Ale</td>\n",
       "      <td>76</td>\n",
       "    </tr>\n",
       "    <tr>\n",
       "      <th>3</th>\n",
       "      <td>American Double / Imperial IPA</td>\n",
       "      <td>72</td>\n",
       "    </tr>\n",
       "    <tr>\n",
       "      <th>4</th>\n",
       "      <td>American Blonde Ale</td>\n",
       "      <td>58</td>\n",
       "    </tr>\n",
       "    <tr>\n",
       "      <th>5</th>\n",
       "      <td>American Pale Wheat Ale</td>\n",
       "      <td>45</td>\n",
       "    </tr>\n",
       "    <tr>\n",
       "      <th>6</th>\n",
       "      <td>American Brown Ale</td>\n",
       "      <td>37</td>\n",
       "    </tr>\n",
       "    <tr>\n",
       "      <th>7</th>\n",
       "      <td>American Porter</td>\n",
       "      <td>37</td>\n",
       "    </tr>\n",
       "    <tr>\n",
       "      <th>8</th>\n",
       "      <td>Kölsch</td>\n",
       "      <td>27</td>\n",
       "    </tr>\n",
       "    <tr>\n",
       "      <th>9</th>\n",
       "      <td>Fruit / Vegetable Beer</td>\n",
       "      <td>27</td>\n",
       "    </tr>\n",
       "  </tbody>\n",
       "</table>\n",
       "</div>"
      ],
      "text/plain": [
       "                            style  counts\n",
       "0                    American IPA     288\n",
       "1         American Pale Ale (APA)     142\n",
       "2        American Amber / Red Ale      76\n",
       "3  American Double / Imperial IPA      72\n",
       "4             American Blonde Ale      58\n",
       "5         American Pale Wheat Ale      45\n",
       "6              American Brown Ale      37\n",
       "7                 American Porter      37\n",
       "8                          Kölsch      27\n",
       "9          Fruit / Vegetable Beer      27"
      ]
     },
     "execution_count": 74,
     "metadata": {},
     "output_type": "execute_result"
    }
   ],
   "source": [
    "style_counts_df[style_counts_df['counts'] > 26]            "
   ]
  },
  {
   "cell_type": "code",
   "execution_count": null,
   "id": "confirmed-charm",
   "metadata": {},
   "outputs": [],
   "source": []
  }
 ],
 "metadata": {
  "kernelspec": {
   "display_name": "PythonData",
   "language": "python",
   "name": "pythondata"
  },
  "language_info": {
   "codemirror_mode": {
    "name": "ipython",
    "version": 3
   },
   "file_extension": ".py",
   "mimetype": "text/x-python",
   "name": "python",
   "nbconvert_exporter": "python",
   "pygments_lexer": "ipython3",
   "version": "3.7.9"
  }
 },
 "nbformat": 4,
 "nbformat_minor": 5
}
